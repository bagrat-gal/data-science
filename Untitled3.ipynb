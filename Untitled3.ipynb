{
 "cells": [
  {
   "cell_type": "code",
   "execution_count": 1,
   "metadata": {},
   "outputs": [
    {
     "name": "stderr",
     "output_type": "stream",
     "text": [
      "Using TensorFlow backend.\n"
     ]
    },
    {
     "name": "stdout",
     "output_type": "stream",
     "text": [
      "WARNING:tensorflow:From /home/bagrat/anaconda3/lib/python3.7/site-packages/tensorflow/python/framework/op_def_library.py:263: colocate_with (from tensorflow.python.framework.ops) is deprecated and will be removed in a future version.\n",
      "Instructions for updating:\n",
      "Colocations handled automatically by placer.\n",
      "_________________________________________________________________\n",
      "Layer (type)                 Output Shape              Param #   \n",
      "=================================================================\n",
      "input_1 (InputLayer)         (None, 150, 150, 3)       0         \n",
      "_________________________________________________________________\n",
      "block1_conv1 (Conv2D)        (None, 150, 150, 64)      1792      \n",
      "_________________________________________________________________\n",
      "block1_conv2 (Conv2D)        (None, 150, 150, 64)      36928     \n",
      "_________________________________________________________________\n",
      "block1_pool (MaxPooling2D)   (None, 75, 75, 64)        0         \n",
      "_________________________________________________________________\n",
      "block2_conv1 (Conv2D)        (None, 75, 75, 128)       73856     \n",
      "_________________________________________________________________\n",
      "block2_conv2 (Conv2D)        (None, 75, 75, 128)       147584    \n",
      "_________________________________________________________________\n",
      "block2_pool (MaxPooling2D)   (None, 37, 37, 128)       0         \n",
      "_________________________________________________________________\n",
      "block3_conv1 (Conv2D)        (None, 37, 37, 256)       295168    \n",
      "_________________________________________________________________\n",
      "block3_conv2 (Conv2D)        (None, 37, 37, 256)       590080    \n",
      "_________________________________________________________________\n",
      "block3_conv3 (Conv2D)        (None, 37, 37, 256)       590080    \n",
      "_________________________________________________________________\n",
      "block3_pool (MaxPooling2D)   (None, 18, 18, 256)       0         \n",
      "_________________________________________________________________\n",
      "block4_conv1 (Conv2D)        (None, 18, 18, 512)       1180160   \n",
      "_________________________________________________________________\n",
      "block4_conv2 (Conv2D)        (None, 18, 18, 512)       2359808   \n",
      "_________________________________________________________________\n",
      "block4_conv3 (Conv2D)        (None, 18, 18, 512)       2359808   \n",
      "_________________________________________________________________\n",
      "block4_pool (MaxPooling2D)   (None, 9, 9, 512)         0         \n",
      "_________________________________________________________________\n",
      "block5_conv1 (Conv2D)        (None, 9, 9, 512)         2359808   \n",
      "_________________________________________________________________\n",
      "block5_conv2 (Conv2D)        (None, 9, 9, 512)         2359808   \n",
      "_________________________________________________________________\n",
      "block5_conv3 (Conv2D)        (None, 9, 9, 512)         2359808   \n",
      "_________________________________________________________________\n",
      "block5_pool (MaxPooling2D)   (None, 4, 4, 512)         0         \n",
      "=================================================================\n",
      "Total params: 14,714,688\n",
      "Trainable params: 14,714,688\n",
      "Non-trainable params: 0\n",
      "_________________________________________________________________\n"
     ]
    }
   ],
   "source": [
    "from keras.applications import VGG16\n",
    "import os\n",
    "import numpy as np\n",
    "from keras.preprocessing.image import ImageDataGenerator\n",
    "conv_base=VGG16(weights='imagenet',include_top=False,input_shape=(150,150,3))\n",
    "base_dir='/media/bagrat/Новый том/Загрузки/kaggle/dogs-vs-cats/dogs_vs_cats_small'\n",
    "train_dir=os.path.join(base_dir,'train')\n",
    "validation_dir=os.path.join(base_dir,'validation')\n",
    "test_dir=os.path.join(base_dir,'test')\n",
    "conv_base.summary()"
   ]
  },
  {
   "cell_type": "code",
   "execution_count": 14,
   "metadata": {},
   "outputs": [
    {
     "name": "stdout",
     "output_type": "stream",
     "text": [
      "_________________________________________________________________\n",
      "Layer (type)                 Output Shape              Param #   \n",
      "=================================================================\n",
      "vgg16 (Model)                (None, 4, 4, 512)         14714688  \n",
      "_________________________________________________________________\n",
      "flatten_3 (Flatten)          (None, 8192)              0         \n",
      "_________________________________________________________________\n",
      "dense_5 (Dense)              (None, 256)               2097408   \n",
      "_________________________________________________________________\n",
      "dense_6 (Dense)              (None, 1)                 257       \n",
      "=================================================================\n",
      "Total params: 16,812,353\n",
      "Trainable params: 2,097,665\n",
      "Non-trainable params: 14,714,688\n",
      "_________________________________________________________________\n"
     ]
    }
   ],
   "source": [
    "from keras import models\n",
    "from keras import layers\n",
    "from keras import optimizers\n",
    "model=models.Sequential()\n",
    "model.add(conv_base)\n",
    "model.add(layers.Flatten())\n",
    "model.add(layers.Dense(256,activation='relu'))\n",
    "model.add(layers.Dense(1,activation='sigmoid'))\n",
    "model.summary()"
   ]
  },
  {
   "cell_type": "code",
   "execution_count": 8,
   "metadata": {
    "collapsed": true
   },
   "outputs": [
    {
     "name": "stdout",
     "output_type": "stream",
     "text": [
      "This is the number of trainable weights before freezing the conv base: 4\n"
     ]
    }
   ],
   "source": [
    "print('This is the number of trainable weights before freezing the conv base:', len(new_model.trainable_weights))\n",
    "conv_base.trainable=False"
   ]
  },
  {
   "cell_type": "code",
   "execution_count": 8,
   "metadata": {},
   "outputs": [
    {
     "name": "stdout",
     "output_type": "stream",
     "text": [
      "This is the number of trainable weights before freezing the conv base: 4\n"
     ]
    }
   ],
   "source": [
    "print('This is the number of trainable weights before freezing the conv base:', len(new_model.trainable_weights))\n",
    "conv_base.trainable=False"
   ]
  },
  {
   "cell_type": "code",
   "execution_count": 9,
   "metadata": {},
   "outputs": [
    {
     "name": "stdout",
     "output_type": "stream",
     "text": [
      "This is the number of trainable weights after freezing the conv base: 4\n"
     ]
    }
   ],
   "source": [
    "print('This is the number of trainable weights after freezing the conv base:', len(new_model.trainable_weights))"
   ]
  },
  {
   "cell_type": "code",
   "execution_count": 10,
   "metadata": {},
   "outputs": [],
   "source": [
    "train_datagen=ImageDataGenerator(\n",
    "    rescale=1./255,rotation_range=40,width_shift_range=0.2,height_shift_range=0.2,shear_range=0.2,\n",
    "    zoom_range=0.2,horizontal_flip=True,fill_mode='nearest')\n",
    "test_datagen=ImageDataGenerator(rescale=1./255)\n"
   ]
  },
  {
   "cell_type": "code",
   "execution_count": 12,
   "metadata": {},
   "outputs": [
    {
     "name": "stdout",
     "output_type": "stream",
     "text": [
      "Found 2000 images belonging to 2 classes.\n",
      "Found 1000 images belonging to 2 classes.\n"
     ]
    }
   ],
   "source": [
    "train_generator=train_datagen.flow_from_directory(\n",
    "    train_dir,target_size=(150,150),batch_size=20,class_mode='binary')\n",
    "\n",
    "validation_generator=test_datagen.flow_from_directory(\n",
    "    validation_dir,target_size=(150,150),batch_size=20, class_mode='binary')\n",
    "model.compile(loss='binary_crossentropy',optimizer=optimizers.RMSprop(lr=2e-5),metrics=['acc'])\n",
    "\n"
   ]
  },
  {
   "cell_type": "code",
   "execution_count": 13,
   "metadata": {},
   "outputs": [
    {
     "name": "stdout",
     "output_type": "stream",
     "text": [
      "WARNING:tensorflow:From /home/bagrat/anaconda3/lib/python3.7/site-packages/tensorflow/python/ops/math_ops.py:3066: to_int32 (from tensorflow.python.ops.math_ops) is deprecated and will be removed in a future version.\n",
      "Instructions for updating:\n",
      "Use tf.cast instead.\n",
      "Epoch 1/30\n",
      "100/100 [==============================] - 16s 158ms/step - loss: 0.5774 - acc: 0.7175 - val_loss: 0.4375 - val_acc: 0.8170\n",
      "Epoch 2/30\n",
      "100/100 [==============================] - 14s 139ms/step - loss: 0.4845 - acc: 0.7800 - val_loss: 0.3764 - val_acc: 0.8380\n",
      "Epoch 3/30\n",
      "100/100 [==============================] - 14s 139ms/step - loss: 0.4234 - acc: 0.8205 - val_loss: 0.3327 - val_acc: 0.8660\n",
      "Epoch 4/30\n",
      "100/100 [==============================] - 14s 139ms/step - loss: 0.4043 - acc: 0.8285 - val_loss: 0.3054 - val_acc: 0.8730\n",
      "Epoch 5/30\n",
      "100/100 [==============================] - 14s 139ms/step - loss: 0.3726 - acc: 0.8360 - val_loss: 0.2961 - val_acc: 0.8800\n",
      "Epoch 6/30\n",
      "100/100 [==============================] - 14s 139ms/step - loss: 0.3687 - acc: 0.8380 - val_loss: 0.2904 - val_acc: 0.8720\n",
      "Epoch 7/30\n",
      "100/100 [==============================] - 14s 140ms/step - loss: 0.3488 - acc: 0.8465 - val_loss: 0.2880 - val_acc: 0.8820\n",
      "Epoch 8/30\n",
      "100/100 [==============================] - 14s 139ms/step - loss: 0.3601 - acc: 0.8405 - val_loss: 0.2687 - val_acc: 0.8890\n",
      "Epoch 9/30\n",
      "100/100 [==============================] - 14s 140ms/step - loss: 0.3425 - acc: 0.8490 - val_loss: 0.2653 - val_acc: 0.8940\n",
      "Epoch 10/30\n",
      "100/100 [==============================] - 14s 139ms/step - loss: 0.3361 - acc: 0.8580 - val_loss: 0.2586 - val_acc: 0.8960\n",
      "Epoch 11/30\n",
      "100/100 [==============================] - 14s 141ms/step - loss: 0.3346 - acc: 0.8525 - val_loss: 0.2557 - val_acc: 0.8960\n",
      "Epoch 12/30\n",
      "100/100 [==============================] - 14s 140ms/step - loss: 0.3119 - acc: 0.8655 - val_loss: 0.2633 - val_acc: 0.8900\n",
      "Epoch 13/30\n",
      "100/100 [==============================] - 14s 140ms/step - loss: 0.3337 - acc: 0.8450 - val_loss: 0.2508 - val_acc: 0.8940\n",
      "Epoch 14/30\n",
      "100/100 [==============================] - 14s 140ms/step - loss: 0.3157 - acc: 0.8595 - val_loss: 0.2568 - val_acc: 0.8930\n",
      "Epoch 15/30\n",
      "100/100 [==============================] - 14s 139ms/step - loss: 0.3107 - acc: 0.8660 - val_loss: 0.2469 - val_acc: 0.8990\n",
      "Epoch 16/30\n",
      "100/100 [==============================] - 14s 141ms/step - loss: 0.3289 - acc: 0.8595 - val_loss: 0.2484 - val_acc: 0.9020\n",
      "Epoch 17/30\n",
      "100/100 [==============================] - 14s 139ms/step - loss: 0.3107 - acc: 0.8660 - val_loss: 0.2468 - val_acc: 0.9030\n",
      "Epoch 18/30\n",
      "100/100 [==============================] - 14s 141ms/step - loss: 0.3020 - acc: 0.8770 - val_loss: 0.2589 - val_acc: 0.8940\n",
      "Epoch 19/30\n",
      "100/100 [==============================] - 14s 141ms/step - loss: 0.3048 - acc: 0.8665 - val_loss: 0.2405 - val_acc: 0.8990\n",
      "Epoch 20/30\n",
      "100/100 [==============================] - 14s 139ms/step - loss: 0.2823 - acc: 0.8810 - val_loss: 0.2499 - val_acc: 0.9000\n",
      "Epoch 21/30\n",
      "100/100 [==============================] - 14s 141ms/step - loss: 0.3122 - acc: 0.8605 - val_loss: 0.2408 - val_acc: 0.9000\n",
      "Epoch 22/30\n",
      "100/100 [==============================] - 14s 141ms/step - loss: 0.2730 - acc: 0.8845 - val_loss: 0.2416 - val_acc: 0.9000\n",
      "Epoch 23/30\n",
      "100/100 [==============================] - 14s 140ms/step - loss: 0.2866 - acc: 0.8730 - val_loss: 0.2541 - val_acc: 0.8980\n",
      "Epoch 24/30\n",
      "100/100 [==============================] - 14s 142ms/step - loss: 0.2930 - acc: 0.8745 - val_loss: 0.2406 - val_acc: 0.8990\n",
      "Epoch 25/30\n",
      "100/100 [==============================] - 14s 143ms/step - loss: 0.2853 - acc: 0.8795 - val_loss: 0.2354 - val_acc: 0.9030\n",
      "Epoch 26/30\n",
      "100/100 [==============================] - 14s 140ms/step - loss: 0.2993 - acc: 0.8760 - val_loss: 0.2338 - val_acc: 0.9060\n",
      "Epoch 27/30\n",
      "100/100 [==============================] - 14s 140ms/step - loss: 0.2829 - acc: 0.8830 - val_loss: 0.2627 - val_acc: 0.8910\n",
      "Epoch 28/30\n",
      "100/100 [==============================] - 14s 140ms/step - loss: 0.2921 - acc: 0.8720 - val_loss: 0.2366 - val_acc: 0.9070\n",
      "Epoch 29/30\n",
      "100/100 [==============================] - 14s 141ms/step - loss: 0.2888 - acc: 0.8700 - val_loss: 0.2386 - val_acc: 0.9080\n",
      "Epoch 30/30\n",
      "100/100 [==============================] - 14s 139ms/step - loss: 0.2749 - acc: 0.8850 - val_loss: 0.2350 - val_acc: 0.9020\n"
     ]
    }
   ],
   "source": [
    "history=model.fit_generator(train_generator,steps_per_epoch=100,epochs=30,validation_data=validation_generator,validation_steps=50)"
   ]
  },
  {
   "cell_type": "code",
   "execution_count": 15,
   "metadata": {},
   "outputs": [
    {
     "name": "stdout",
     "output_type": "stream",
     "text": [
      "Epoch 1/100\n",
      "100/100 [==============================] - 15s 153ms/step - loss: 0.5493 - acc: 0.7255 - val_loss: 0.3508 - val_acc: 0.8430\n",
      "Epoch 2/100\n",
      "100/100 [==============================] - 14s 141ms/step - loss: 0.3802 - acc: 0.8265 - val_loss: 0.2650 - val_acc: 0.8940\n",
      "Epoch 3/100\n",
      "100/100 [==============================] - 14s 141ms/step - loss: 0.3172 - acc: 0.8630 - val_loss: 0.2132 - val_acc: 0.9130\n",
      "Epoch 4/100\n",
      "100/100 [==============================] - 14s 141ms/step - loss: 0.2899 - acc: 0.8780 - val_loss: 0.2260 - val_acc: 0.9030\n",
      "Epoch 5/100\n",
      "100/100 [==============================] - 14s 142ms/step - loss: 0.2882 - acc: 0.8725 - val_loss: 0.2069 - val_acc: 0.9130\n",
      "Epoch 6/100\n",
      "100/100 [==============================] - 14s 142ms/step - loss: 0.2514 - acc: 0.8920 - val_loss: 0.1889 - val_acc: 0.9160\n",
      "Epoch 7/100\n",
      "100/100 [==============================] - 14s 142ms/step - loss: 0.2516 - acc: 0.8910 - val_loss: 0.1863 - val_acc: 0.9230\n",
      "Epoch 8/100\n",
      "100/100 [==============================] - 15s 146ms/step - loss: 0.2136 - acc: 0.9090 - val_loss: 0.2016 - val_acc: 0.9210\n",
      "Epoch 9/100\n",
      "100/100 [==============================] - 15s 148ms/step - loss: 0.2135 - acc: 0.9150 - val_loss: 0.1666 - val_acc: 0.9290\n",
      "Epoch 10/100\n",
      "100/100 [==============================] - 15s 147ms/step - loss: 0.1828 - acc: 0.9285 - val_loss: 0.1624 - val_acc: 0.9270\n",
      "Epoch 11/100\n",
      "100/100 [==============================] - 14s 144ms/step - loss: 0.1985 - acc: 0.9185 - val_loss: 0.1611 - val_acc: 0.9310\n",
      "Epoch 12/100\n",
      "100/100 [==============================] - 14s 144ms/step - loss: 0.1732 - acc: 0.9335 - val_loss: 0.1837 - val_acc: 0.9230\n",
      "Epoch 13/100\n",
      "100/100 [==============================] - 14s 144ms/step - loss: 0.1894 - acc: 0.9245 - val_loss: 0.1869 - val_acc: 0.9220\n",
      "Epoch 14/100\n",
      "100/100 [==============================] - 14s 143ms/step - loss: 0.1642 - acc: 0.9335 - val_loss: 0.2423 - val_acc: 0.9060\n",
      "Epoch 15/100\n",
      "100/100 [==============================] - 14s 143ms/step - loss: 0.1683 - acc: 0.9275 - val_loss: 0.1600 - val_acc: 0.9350\n",
      "Epoch 16/100\n",
      "100/100 [==============================] - 14s 143ms/step - loss: 0.1679 - acc: 0.9360 - val_loss: 0.2313 - val_acc: 0.9200\n",
      "Epoch 17/100\n",
      "100/100 [==============================] - 14s 143ms/step - loss: 0.1550 - acc: 0.9375 - val_loss: 0.1903 - val_acc: 0.9180\n",
      "Epoch 18/100\n",
      "100/100 [==============================] - 14s 144ms/step - loss: 0.1452 - acc: 0.9410 - val_loss: 0.1887 - val_acc: 0.9170\n",
      "Epoch 19/100\n",
      "100/100 [==============================] - 14s 144ms/step - loss: 0.1287 - acc: 0.9495 - val_loss: 0.2475 - val_acc: 0.9120\n",
      "Epoch 20/100\n",
      "100/100 [==============================] - 15s 148ms/step - loss: 0.1240 - acc: 0.9525 - val_loss: 0.1745 - val_acc: 0.9330\n",
      "Epoch 21/100\n",
      "100/100 [==============================] - 14s 144ms/step - loss: 0.1317 - acc: 0.9540 - val_loss: 0.1552 - val_acc: 0.9330\n",
      "Epoch 22/100\n",
      "100/100 [==============================] - 15s 148ms/step - loss: 0.1239 - acc: 0.9525 - val_loss: 0.1859 - val_acc: 0.9270\n",
      "Epoch 23/100\n",
      "100/100 [==============================] - 15s 149ms/step - loss: 0.1069 - acc: 0.9565 - val_loss: 0.1730 - val_acc: 0.9300\n",
      "Epoch 24/100\n",
      "100/100 [==============================] - 15s 147ms/step - loss: 0.1037 - acc: 0.9620 - val_loss: 0.1595 - val_acc: 0.9360\n",
      "Epoch 25/100\n",
      "100/100 [==============================] - 15s 148ms/step - loss: 0.1091 - acc: 0.9560 - val_loss: 0.1658 - val_acc: 0.9330\n",
      "Epoch 26/100\n",
      "100/100 [==============================] - 14s 144ms/step - loss: 0.0993 - acc: 0.9620 - val_loss: 0.1685 - val_acc: 0.9360\n",
      "Epoch 27/100\n",
      "100/100 [==============================] - 15s 145ms/step - loss: 0.1081 - acc: 0.9545 - val_loss: 0.2211 - val_acc: 0.9210\n",
      "Epoch 28/100\n",
      "100/100 [==============================] - 14s 143ms/step - loss: 0.1052 - acc: 0.9610 - val_loss: 0.2374 - val_acc: 0.9220\n",
      "Epoch 29/100\n",
      "100/100 [==============================] - 14s 142ms/step - loss: 0.1036 - acc: 0.9575 - val_loss: 0.1675 - val_acc: 0.9300\n",
      "Epoch 30/100\n",
      "100/100 [==============================] - 14s 143ms/step - loss: 0.0894 - acc: 0.9680 - val_loss: 0.2097 - val_acc: 0.9260\n",
      "Epoch 31/100\n",
      "100/100 [==============================] - 14s 144ms/step - loss: 0.0941 - acc: 0.9650 - val_loss: 0.1707 - val_acc: 0.9320\n",
      "Epoch 32/100\n",
      "100/100 [==============================] - 14s 143ms/step - loss: 0.0848 - acc: 0.9640 - val_loss: 0.2099 - val_acc: 0.9180\n",
      "Epoch 33/100\n",
      "100/100 [==============================] - 14s 141ms/step - loss: 0.0829 - acc: 0.9660 - val_loss: 0.1848 - val_acc: 0.9280\n",
      "Epoch 34/100\n",
      "100/100 [==============================] - 14s 141ms/step - loss: 0.0853 - acc: 0.9695 - val_loss: 0.1650 - val_acc: 0.9350\n",
      "Epoch 35/100\n",
      "100/100 [==============================] - 14s 142ms/step - loss: 0.0774 - acc: 0.9715 - val_loss: 0.2080 - val_acc: 0.9320\n",
      "Epoch 36/100\n",
      "100/100 [==============================] - 14s 143ms/step - loss: 0.0769 - acc: 0.9685 - val_loss: 0.1714 - val_acc: 0.9290\n",
      "Epoch 37/100\n",
      "100/100 [==============================] - 14s 144ms/step - loss: 0.0661 - acc: 0.9760 - val_loss: 0.1965 - val_acc: 0.9330\n",
      "Epoch 38/100\n",
      "100/100 [==============================] - 15s 147ms/step - loss: 0.0781 - acc: 0.9680 - val_loss: 0.1699 - val_acc: 0.9310\n",
      "Epoch 39/100\n",
      "100/100 [==============================] - 15s 145ms/step - loss: 0.0676 - acc: 0.9750 - val_loss: 0.2039 - val_acc: 0.9280\n",
      "Epoch 40/100\n",
      "100/100 [==============================] - 15s 147ms/step - loss: 0.0773 - acc: 0.9700 - val_loss: 0.2212 - val_acc: 0.9240\n",
      "Epoch 41/100\n",
      "100/100 [==============================] - 14s 144ms/step - loss: 0.0698 - acc: 0.9710 - val_loss: 0.2158 - val_acc: 0.9310\n",
      "Epoch 42/100\n",
      "100/100 [==============================] - 14s 143ms/step - loss: 0.0740 - acc: 0.9730 - val_loss: 0.1724 - val_acc: 0.9390\n",
      "Epoch 43/100\n",
      "100/100 [==============================] - 14s 144ms/step - loss: 0.0631 - acc: 0.9780 - val_loss: 0.1523 - val_acc: 0.9380\n",
      "Epoch 44/100\n",
      "100/100 [==============================] - 15s 149ms/step - loss: 0.0640 - acc: 0.9770 - val_loss: 0.2135 - val_acc: 0.9300\n",
      "Epoch 45/100\n",
      "100/100 [==============================] - 15s 149ms/step - loss: 0.0623 - acc: 0.9795 - val_loss: 0.1875 - val_acc: 0.9310\n",
      "Epoch 46/100\n",
      "100/100 [==============================] - 15s 146ms/step - loss: 0.0561 - acc: 0.9805 - val_loss: 0.2298 - val_acc: 0.9240\n",
      "Epoch 47/100\n",
      "100/100 [==============================] - 15s 146ms/step - loss: 0.0610 - acc: 0.9785 - val_loss: 0.1812 - val_acc: 0.9390\n",
      "Epoch 48/100\n",
      "100/100 [==============================] - 14s 144ms/step - loss: 0.0519 - acc: 0.9800 - val_loss: 0.2488 - val_acc: 0.9290\n",
      "Epoch 49/100\n",
      "100/100 [==============================] - 14s 145ms/step - loss: 0.0713 - acc: 0.9715 - val_loss: 0.1589 - val_acc: 0.9200\n",
      "Epoch 50/100\n",
      "100/100 [==============================] - 14s 142ms/step - loss: 0.0479 - acc: 0.9855 - val_loss: 0.1905 - val_acc: 0.9420\n",
      "Epoch 51/100\n",
      "100/100 [==============================] - 14s 143ms/step - loss: 0.0490 - acc: 0.9820 - val_loss: 0.2728 - val_acc: 0.9220\n",
      "Epoch 52/100\n",
      "100/100 [==============================] - 14s 141ms/step - loss: 0.0442 - acc: 0.9800 - val_loss: 0.1882 - val_acc: 0.9300\n",
      "Epoch 53/100\n",
      "100/100 [==============================] - 14s 144ms/step - loss: 0.0427 - acc: 0.9885 - val_loss: 0.2123 - val_acc: 0.9440\n",
      "Epoch 54/100\n",
      "100/100 [==============================] - 14s 144ms/step - loss: 0.0496 - acc: 0.9810 - val_loss: 0.2252 - val_acc: 0.9310\n",
      "Epoch 55/100\n",
      "100/100 [==============================] - 14s 141ms/step - loss: 0.0512 - acc: 0.9795 - val_loss: 0.1922 - val_acc: 0.9350\n",
      "Epoch 56/100\n",
      "100/100 [==============================] - 14s 142ms/step - loss: 0.0475 - acc: 0.9835 - val_loss: 0.2533 - val_acc: 0.9320\n",
      "Epoch 57/100\n",
      "100/100 [==============================] - 14s 141ms/step - loss: 0.0450 - acc: 0.9825 - val_loss: 0.3106 - val_acc: 0.9220\n",
      "Epoch 58/100\n",
      "100/100 [==============================] - 14s 142ms/step - loss: 0.0419 - acc: 0.9850 - val_loss: 0.1929 - val_acc: 0.9320\n",
      "Epoch 59/100\n",
      "100/100 [==============================] - 14s 142ms/step - loss: 0.0412 - acc: 0.9860 - val_loss: 0.2208 - val_acc: 0.9270\n",
      "Epoch 60/100\n",
      "100/100 [==============================] - 14s 142ms/step - loss: 0.0436 - acc: 0.9855 - val_loss: 0.2586 - val_acc: 0.9260\n"
     ]
    },
    {
     "name": "stdout",
     "output_type": "stream",
     "text": [
      "Epoch 61/100\n",
      "100/100 [==============================] - 14s 142ms/step - loss: 0.0469 - acc: 0.9785 - val_loss: 0.2144 - val_acc: 0.9400\n",
      "Epoch 62/100\n",
      "100/100 [==============================] - 14s 142ms/step - loss: 0.0389 - acc: 0.9860 - val_loss: 0.2125 - val_acc: 0.9370\n",
      "Epoch 63/100\n",
      "100/100 [==============================] - 14s 143ms/step - loss: 0.0366 - acc: 0.9870 - val_loss: 0.2405 - val_acc: 0.9280\n",
      "Epoch 64/100\n",
      "100/100 [==============================] - 14s 142ms/step - loss: 0.0452 - acc: 0.9840 - val_loss: 0.1670 - val_acc: 0.9440\n",
      "Epoch 65/100\n",
      "100/100 [==============================] - 14s 142ms/step - loss: 0.0390 - acc: 0.9855 - val_loss: 0.3177 - val_acc: 0.9230\n",
      "Epoch 66/100\n",
      "100/100 [==============================] - 14s 143ms/step - loss: 0.0337 - acc: 0.9880 - val_loss: 0.2354 - val_acc: 0.9380\n",
      "Epoch 67/100\n",
      "100/100 [==============================] - 15s 146ms/step - loss: 0.0362 - acc: 0.9900 - val_loss: 0.1977 - val_acc: 0.9370\n",
      "Epoch 68/100\n",
      "100/100 [==============================] - 14s 144ms/step - loss: 0.0382 - acc: 0.9865 - val_loss: 0.2371 - val_acc: 0.9340\n",
      "Epoch 69/100\n",
      "100/100 [==============================] - 14s 141ms/step - loss: 0.0342 - acc: 0.9885 - val_loss: 0.3102 - val_acc: 0.9260\n",
      "Epoch 70/100\n",
      "100/100 [==============================] - 14s 142ms/step - loss: 0.0339 - acc: 0.9865 - val_loss: 0.2280 - val_acc: 0.9350\n",
      "Epoch 71/100\n",
      "100/100 [==============================] - 14s 141ms/step - loss: 0.0353 - acc: 0.9860 - val_loss: 0.2078 - val_acc: 0.9330\n",
      "Epoch 72/100\n",
      "100/100 [==============================] - 14s 142ms/step - loss: 0.0268 - acc: 0.9895 - val_loss: 0.1832 - val_acc: 0.9460\n",
      "Epoch 73/100\n",
      "100/100 [==============================] - 15s 145ms/step - loss: 0.0299 - acc: 0.9870 - val_loss: 0.2203 - val_acc: 0.9390\n",
      "Epoch 74/100\n",
      "100/100 [==============================] - 14s 142ms/step - loss: 0.0401 - acc: 0.9865 - val_loss: 0.2025 - val_acc: 0.9400\n",
      "Epoch 75/100\n",
      "100/100 [==============================] - 14s 143ms/step - loss: 0.0365 - acc: 0.9890 - val_loss: 0.2243 - val_acc: 0.9390\n",
      "Epoch 76/100\n",
      "100/100 [==============================] - 14s 142ms/step - loss: 0.0369 - acc: 0.9855 - val_loss: 0.2057 - val_acc: 0.9330\n",
      "Epoch 77/100\n",
      "100/100 [==============================] - 15s 146ms/step - loss: 0.0228 - acc: 0.9925 - val_loss: 0.3138 - val_acc: 0.9180\n",
      "Epoch 78/100\n",
      "100/100 [==============================] - 14s 144ms/step - loss: 0.0314 - acc: 0.9895 - val_loss: 0.2369 - val_acc: 0.9370\n",
      "Epoch 79/100\n",
      "100/100 [==============================] - 14s 143ms/step - loss: 0.0272 - acc: 0.9915 - val_loss: 0.3552 - val_acc: 0.9260\n",
      "Epoch 80/100\n",
      "100/100 [==============================] - 14s 142ms/step - loss: 0.0293 - acc: 0.9880 - val_loss: 0.2280 - val_acc: 0.9350\n",
      "Epoch 81/100\n",
      "100/100 [==============================] - 14s 145ms/step - loss: 0.0286 - acc: 0.9890 - val_loss: 0.1929 - val_acc: 0.9380\n",
      "Epoch 82/100\n",
      "100/100 [==============================] - 15s 146ms/step - loss: 0.0318 - acc: 0.9895 - val_loss: 0.3538 - val_acc: 0.9290\n",
      "Epoch 83/100\n",
      "100/100 [==============================] - 15s 145ms/step - loss: 0.0335 - acc: 0.9885 - val_loss: 0.2508 - val_acc: 0.9350\n",
      "Epoch 84/100\n",
      "100/100 [==============================] - 15s 147ms/step - loss: 0.0385 - acc: 0.9860 - val_loss: 0.2398 - val_acc: 0.9370\n",
      "Epoch 85/100\n",
      "100/100 [==============================] - 15s 146ms/step - loss: 0.0306 - acc: 0.9905 - val_loss: 0.3082 - val_acc: 0.9270\n",
      "Epoch 86/100\n",
      "100/100 [==============================] - 15s 147ms/step - loss: 0.0294 - acc: 0.9875 - val_loss: 0.2505 - val_acc: 0.9340\n",
      "Epoch 87/100\n",
      "100/100 [==============================] - 15s 149ms/step - loss: 0.0304 - acc: 0.9895 - val_loss: 0.2305 - val_acc: 0.9370\n",
      "Epoch 88/100\n",
      "100/100 [==============================] - 15s 150ms/step - loss: 0.0248 - acc: 0.9910 - val_loss: 0.4427 - val_acc: 0.9220\n",
      "Epoch 89/100\n",
      "100/100 [==============================] - 15s 151ms/step - loss: 0.0274 - acc: 0.9910 - val_loss: 0.3113 - val_acc: 0.9330\n",
      "Epoch 90/100\n",
      "100/100 [==============================] - 15s 147ms/step - loss: 0.0244 - acc: 0.9905 - val_loss: 0.2871 - val_acc: 0.9340\n",
      "Epoch 91/100\n",
      "100/100 [==============================] - 15s 146ms/step - loss: 0.0286 - acc: 0.9920 - val_loss: 0.3185 - val_acc: 0.9330\n",
      "Epoch 92/100\n",
      "100/100 [==============================] - 14s 144ms/step - loss: 0.0217 - acc: 0.9935 - val_loss: 0.2658 - val_acc: 0.9340\n",
      "Epoch 93/100\n",
      "100/100 [==============================] - 14s 143ms/step - loss: 0.0317 - acc: 0.9915 - val_loss: 0.3189 - val_acc: 0.9280\n",
      "Epoch 94/100\n",
      "100/100 [==============================] - 14s 144ms/step - loss: 0.0265 - acc: 0.9905 - val_loss: 0.2282 - val_acc: 0.9420\n",
      "Epoch 95/100\n",
      "100/100 [==============================] - 14s 143ms/step - loss: 0.0180 - acc: 0.9945 - val_loss: 0.4128 - val_acc: 0.9240\n",
      "Epoch 96/100\n",
      "100/100 [==============================] - 14s 143ms/step - loss: 0.0275 - acc: 0.9910 - val_loss: 0.4151 - val_acc: 0.9210\n",
      "Epoch 97/100\n",
      "100/100 [==============================] - 14s 143ms/step - loss: 0.0161 - acc: 0.9920 - val_loss: 0.2661 - val_acc: 0.9260\n",
      "Epoch 98/100\n",
      "100/100 [==============================] - 14s 143ms/step - loss: 0.0179 - acc: 0.9950 - val_loss: 0.2723 - val_acc: 0.9390\n",
      "Epoch 99/100\n",
      "100/100 [==============================] - 14s 143ms/step - loss: 0.0179 - acc: 0.9960 - val_loss: 0.3948 - val_acc: 0.9270\n",
      "Epoch 100/100\n",
      "100/100 [==============================] - 14s 144ms/step - loss: 0.0226 - acc: 0.9930 - val_loss: 0.2484 - val_acc: 0.9400\n"
     ]
    }
   ],
   "source": [
    "conv_base.trainable=True\n",
    "set_trainable=False\n",
    "for layer in conv_base.layers:\n",
    "    if layer.name=='block5_conv1':\n",
    "        set_trainable=True\n",
    "    if set_trainable:\n",
    "        layer.trainable=True\n",
    "    else:\n",
    "        layer.trainable=False\n",
    "model.compile(loss='binary_crossentropy',optimizer=optimizers.RMSprop(lr=1e-5),metrics=['acc'])\n",
    "history=model.fit_generator(train_generator,steps_per_epoch=100,epochs=100,validation_data=validation_generator,validation_steps=50)"
   ]
  },
  {
   "cell_type": "code",
   "execution_count": 17,
   "metadata": {},
   "outputs": [
    {
     "name": "stdout",
     "output_type": "stream",
     "text": [
      "Found 1000 images belonging to 2 classes.\n",
      "test acc 0.9379999899864196\n"
     ]
    }
   ],
   "source": [
    "test_generator=test_datagen.flow_from_directory(\n",
    "       test_dir, target_size=(150,150),batch_size=20,class_mode='binary')\n",
    "test_loss, test_acc=model.evaluate_generator(test_generator,steps=50)\n",
    "print('test acc', test_acc)"
   ]
  },
  {
   "cell_type": "code",
   "execution_count": null,
   "metadata": {},
   "outputs": [],
   "source": []
  }
 ],
 "metadata": {
  "kernelspec": {
   "display_name": "Python 3",
   "language": "python",
   "name": "python3"
  },
  "language_info": {
   "codemirror_mode": {
    "name": "ipython",
    "version": 3
   },
   "file_extension": ".py",
   "mimetype": "text/x-python",
   "name": "python",
   "nbconvert_exporter": "python",
   "pygments_lexer": "ipython3",
   "version": "3.7.3"
  }
 },
 "nbformat": 4,
 "nbformat_minor": 2
}
