{
 "cells": [
  {
   "cell_type": "code",
   "execution_count": 2,
   "metadata": {},
   "outputs": [
    {
     "name": "stderr",
     "output_type": "stream",
     "text": [
      "Using TensorFlow backend.\n"
     ]
    }
   ],
   "source": [
    "from keras.applications import VGG16"
   ]
  },
  {
   "cell_type": "code",
   "execution_count": 3,
   "metadata": {},
   "outputs": [
    {
     "name": "stdout",
     "output_type": "stream",
     "text": [
      "WARNING:tensorflow:From /home/bagrat/anaconda3/lib/python3.7/site-packages/tensorflow/python/framework/op_def_library.py:263: colocate_with (from tensorflow.python.framework.ops) is deprecated and will be removed in a future version.\n",
      "Instructions for updating:\n",
      "Colocations handled automatically by placer.\n",
      "_________________________________________________________________\n",
      "Layer (type)                 Output Shape              Param #   \n",
      "=================================================================\n",
      "input_1 (InputLayer)         (None, 150, 150, 3)       0         \n",
      "_________________________________________________________________\n",
      "block1_conv1 (Conv2D)        (None, 150, 150, 64)      1792      \n",
      "_________________________________________________________________\n",
      "block1_conv2 (Conv2D)        (None, 150, 150, 64)      36928     \n",
      "_________________________________________________________________\n",
      "block1_pool (MaxPooling2D)   (None, 75, 75, 64)        0         \n",
      "_________________________________________________________________\n",
      "block2_conv1 (Conv2D)        (None, 75, 75, 128)       73856     \n",
      "_________________________________________________________________\n",
      "block2_conv2 (Conv2D)        (None, 75, 75, 128)       147584    \n",
      "_________________________________________________________________\n",
      "block2_pool (MaxPooling2D)   (None, 37, 37, 128)       0         \n",
      "_________________________________________________________________\n",
      "block3_conv1 (Conv2D)        (None, 37, 37, 256)       295168    \n",
      "_________________________________________________________________\n",
      "block3_conv2 (Conv2D)        (None, 37, 37, 256)       590080    \n",
      "_________________________________________________________________\n",
      "block3_conv3 (Conv2D)        (None, 37, 37, 256)       590080    \n",
      "_________________________________________________________________\n",
      "block3_pool (MaxPooling2D)   (None, 18, 18, 256)       0         \n",
      "_________________________________________________________________\n",
      "block4_conv1 (Conv2D)        (None, 18, 18, 512)       1180160   \n",
      "_________________________________________________________________\n",
      "block4_conv2 (Conv2D)        (None, 18, 18, 512)       2359808   \n",
      "_________________________________________________________________\n",
      "block4_conv3 (Conv2D)        (None, 18, 18, 512)       2359808   \n",
      "_________________________________________________________________\n",
      "block4_pool (MaxPooling2D)   (None, 9, 9, 512)         0         \n",
      "_________________________________________________________________\n",
      "block5_conv1 (Conv2D)        (None, 9, 9, 512)         2359808   \n",
      "_________________________________________________________________\n",
      "block5_conv2 (Conv2D)        (None, 9, 9, 512)         2359808   \n",
      "_________________________________________________________________\n",
      "block5_conv3 (Conv2D)        (None, 9, 9, 512)         2359808   \n",
      "_________________________________________________________________\n",
      "block5_pool (MaxPooling2D)   (None, 4, 4, 512)         0         \n",
      "=================================================================\n",
      "Total params: 14,714,688\n",
      "Trainable params: 14,714,688\n",
      "Non-trainable params: 0\n",
      "_________________________________________________________________\n"
     ]
    }
   ],
   "source": [
    "conv_base=VGG16(weights='imagenet',include_top=False,input_shape=(150,150,3))\n",
    "conv_base.summary()"
   ]
  },
  {
   "cell_type": "code",
   "execution_count": 15,
   "metadata": {},
   "outputs": [
    {
     "name": "stdout",
     "output_type": "stream",
     "text": [
      "Found 2000 images belonging to 2 classes.\n",
      "Found 1000 images belonging to 2 classes.\n",
      "Found 1000 images belonging to 2 classes.\n"
     ]
    }
   ],
   "source": [
    "import os\n",
    "import numpy as np\n",
    "from keras.preprocessing.image import ImageDataGenerator\n",
    "\n",
    "base_dir='/media/bagrat/Новый том/Загрузки/kaggle/dogs-vs-cats/dogs_vs_cats_small'\n",
    "train_dir=os.path.join(base_dir,'train')\n",
    "validation_dir=os.path.join(base_dir,'validation')\n",
    "test_dir=os.path.join(base_dir,'test')\n",
    "\n",
    "datagen=ImageDataGenerator(rescale=1./255)\n",
    "batch_size=20\n",
    "\n",
    "def extract_features(directory,sample_count):\n",
    "    features=np.zeros(shape=(sample_count,4,4,512))\n",
    "    labels=np.zeros(shape=(sample_count))\n",
    "    generator=datagen.flow_from_directory(\n",
    "    directory,target_size=(150,150),batch_size=batch_size,class_mode='binary')\n",
    "    i=0\n",
    "    for inputs_batch,labels_batch in generator:\n",
    "        features_batch=conv_base.predict(inputs_batch)\n",
    "        features[i*batch_size:(i+1)*batch_size]=features_batch\n",
    "        labels[i*batch_size:(i+1)*batch_size]=labels_batch\n",
    "        i+=1\n",
    "        if i*batch_size>=sample_count:\n",
    "            break\n",
    "    return features,labels\n",
    "train_features,train_labels=extract_features(train_dir,2000)\n",
    "validation_features, validation_labels=extract_features(validation_dir,1000)\n",
    "test_features,test_labels=extract_features(test_dir,1000)\n"
   ]
  },
  {
   "cell_type": "code",
   "execution_count": null,
   "metadata": {},
   "outputs": [],
   "source": []
  },
  {
   "cell_type": "code",
   "execution_count": null,
   "metadata": {},
   "outputs": [],
   "source": [
    "train_labels[1]"
   ]
  },
  {
   "cell_type": "code",
   "execution_count": null,
   "metadata": {},
   "outputs": [],
   "source": [
    "train_features=np.reshape(train_features,(2000,4*4*512))\n",
    "validation_features=np.reshape(validation_features,(1000,4*4*512))\n",
    "test_features=np.reshape(test_features,(1000,4*4*512))"
   ]
  },
  {
   "cell_type": "code",
   "execution_count": null,
   "metadata": {},
   "outputs": [],
   "source": [
    "train_features[1]"
   ]
  },
  {
   "cell_type": "code",
   "execution_count": 17,
   "metadata": {},
   "outputs": [
    {
     "name": "stdout",
     "output_type": "stream",
     "text": [
      "WARNING:tensorflow:From /home/bagrat/anaconda3/lib/python3.7/site-packages/keras/backend/tensorflow_backend.py:3445: calling dropout (from tensorflow.python.ops.nn_ops) with keep_prob is deprecated and will be removed in a future version.\n",
      "Instructions for updating:\n",
      "Please use `rate` instead of `keep_prob`. Rate should be set to `rate = 1 - keep_prob`.\n",
      "WARNING:tensorflow:From /home/bagrat/anaconda3/lib/python3.7/site-packages/tensorflow/python/ops/math_ops.py:3066: to_int32 (from tensorflow.python.ops.math_ops) is deprecated and will be removed in a future version.\n",
      "Instructions for updating:\n",
      "Use tf.cast instead.\n",
      "Train on 2000 samples, validate on 1000 samples\n",
      "Epoch 1/30\n",
      "2000/2000 [==============================] - 1s 626us/step - loss: 0.5850 - acc: 0.6850 - val_loss: 0.4360 - val_acc: 0.8340\n",
      "Epoch 2/30\n",
      "2000/2000 [==============================] - 1s 262us/step - loss: 0.4284 - acc: 0.8015 - val_loss: 0.3582 - val_acc: 0.8820\n",
      "Epoch 3/30\n",
      "2000/2000 [==============================] - 1s 254us/step - loss: 0.3551 - acc: 0.8415 - val_loss: 0.3255 - val_acc: 0.8720\n",
      "Epoch 4/30\n",
      "2000/2000 [==============================] - 1s 274us/step - loss: 0.3200 - acc: 0.8645 - val_loss: 0.3017 - val_acc: 0.8880\n",
      "Epoch 5/30\n",
      "2000/2000 [==============================] - 1s 261us/step - loss: 0.2874 - acc: 0.8835 - val_loss: 0.2881 - val_acc: 0.8870\n",
      "Epoch 6/30\n",
      "2000/2000 [==============================] - 1s 270us/step - loss: 0.2682 - acc: 0.8900 - val_loss: 0.2814 - val_acc: 0.8890\n",
      "Epoch 7/30\n",
      "2000/2000 [==============================] - 1s 260us/step - loss: 0.2510 - acc: 0.9015 - val_loss: 0.2668 - val_acc: 0.9000\n",
      "Epoch 8/30\n",
      "2000/2000 [==============================] - 1s 256us/step - loss: 0.2358 - acc: 0.9110 - val_loss: 0.2616 - val_acc: 0.8950\n",
      "Epoch 9/30\n",
      "2000/2000 [==============================] - 1s 260us/step - loss: 0.2218 - acc: 0.9135 - val_loss: 0.2601 - val_acc: 0.8960\n",
      "Epoch 10/30\n",
      "2000/2000 [==============================] - 1s 260us/step - loss: 0.2115 - acc: 0.9250 - val_loss: 0.2619 - val_acc: 0.8920\n",
      "Epoch 11/30\n",
      "2000/2000 [==============================] - 1s 276us/step - loss: 0.1955 - acc: 0.9275 - val_loss: 0.2535 - val_acc: 0.8950\n",
      "Epoch 12/30\n",
      "2000/2000 [==============================] - 1s 265us/step - loss: 0.1943 - acc: 0.9270 - val_loss: 0.2477 - val_acc: 0.9030\n",
      "Epoch 13/30\n",
      "2000/2000 [==============================] - 1s 269us/step - loss: 0.1807 - acc: 0.9320 - val_loss: 0.2468 - val_acc: 0.8990\n",
      "Epoch 14/30\n",
      "2000/2000 [==============================] - 1s 264us/step - loss: 0.1768 - acc: 0.9350 - val_loss: 0.2459 - val_acc: 0.9040\n",
      "Epoch 15/30\n",
      "2000/2000 [==============================] - 1s 263us/step - loss: 0.1660 - acc: 0.9420 - val_loss: 0.2425 - val_acc: 0.9000\n",
      "Epoch 16/30\n",
      "2000/2000 [==============================] - 1s 264us/step - loss: 0.1630 - acc: 0.9455 - val_loss: 0.2420 - val_acc: 0.9050\n",
      "Epoch 17/30\n",
      "2000/2000 [==============================] - 1s 259us/step - loss: 0.1523 - acc: 0.9500 - val_loss: 0.2466 - val_acc: 0.8980\n",
      "Epoch 18/30\n",
      "2000/2000 [==============================] - 1s 267us/step - loss: 0.1466 - acc: 0.9485 - val_loss: 0.2491 - val_acc: 0.8960\n",
      "Epoch 19/30\n",
      "2000/2000 [==============================] - 1s 261us/step - loss: 0.1436 - acc: 0.9505 - val_loss: 0.2390 - val_acc: 0.9030\n",
      "Epoch 20/30\n",
      "2000/2000 [==============================] - 1s 257us/step - loss: 0.1276 - acc: 0.9590 - val_loss: 0.2399 - val_acc: 0.9010\n",
      "Epoch 21/30\n",
      "2000/2000 [==============================] - 1s 262us/step - loss: 0.1282 - acc: 0.9585 - val_loss: 0.2415 - val_acc: 0.9070\n",
      "Epoch 22/30\n",
      "2000/2000 [==============================] - 1s 263us/step - loss: 0.1267 - acc: 0.9575 - val_loss: 0.2392 - val_acc: 0.9030\n",
      "Epoch 23/30\n",
      "2000/2000 [==============================] - 1s 265us/step - loss: 0.1227 - acc: 0.9615 - val_loss: 0.2407 - val_acc: 0.9000\n",
      "Epoch 24/30\n",
      "2000/2000 [==============================] - 1s 261us/step - loss: 0.1213 - acc: 0.9595 - val_loss: 0.2564 - val_acc: 0.8940\n",
      "Epoch 25/30\n",
      "2000/2000 [==============================] - 1s 259us/step - loss: 0.1116 - acc: 0.9620 - val_loss: 0.2463 - val_acc: 0.8980\n",
      "Epoch 26/30\n",
      "2000/2000 [==============================] - 1s 259us/step - loss: 0.1098 - acc: 0.9635 - val_loss: 0.2410 - val_acc: 0.9030\n",
      "Epoch 27/30\n",
      "2000/2000 [==============================] - 1s 259us/step - loss: 0.1044 - acc: 0.9655 - val_loss: 0.2417 - val_acc: 0.9030\n",
      "Epoch 28/30\n",
      "2000/2000 [==============================] - 1s 261us/step - loss: 0.1006 - acc: 0.9700 - val_loss: 0.2415 - val_acc: 0.9020\n",
      "Epoch 29/30\n",
      "2000/2000 [==============================] - 1s 260us/step - loss: 0.0970 - acc: 0.9690 - val_loss: 0.2425 - val_acc: 0.9030\n",
      "Epoch 30/30\n",
      "2000/2000 [==============================] - 1s 261us/step - loss: 0.0956 - acc: 0.9735 - val_loss: 0.2445 - val_acc: 0.9010\n"
     ]
    }
   ],
   "source": [
    "from keras import models\n",
    "from keras import layers\n",
    "from keras import optimizers\n",
    "\n",
    "model=models.Sequential()\n",
    "model.add(layers.Dense(256,activation='relu',input_dim=4*4*512))\n",
    "model.add(layers.Dropout(0.5))\n",
    "model.add(layers.Dense(1,activation='sigmoid'))\n",
    "\n",
    "model.compile(optimizer=optimizers.RMSprop(lr=2e-5),loss='binary_crossentropy',metrics=['acc'])\n",
    "\n",
    "history=model.fit(train_features,train_labels,epochs=30,batch_size=20,validation_data=(validation_features,validation_labels))\n",
    "\n"
   ]
  },
  {
   "cell_type": "code",
   "execution_count": 19,
   "metadata": {},
   "outputs": [
    {
     "data": {
      "text/plain": [
       "<Figure size 432x288 with 0 Axes>"
      ]
     },
     "execution_count": 19,
     "metadata": {},
     "output_type": "execute_result"
    },
    {
     "data": {
      "image/png": "[encoded data removed]",
      "text/plain": [
       "<Figure size 432x288 with 1 Axes>"
      ]
     },
     "metadata": {
      "needs_background": "light"
     },
     "output_type": "display_data"
    },
    {
     "data": {
      "text/plain": [
       "<Figure size 432x288 with 0 Axes>"
      ]
     },
     "metadata": {},
     "output_type": "display_data"
    }
   ],
   "source": [
    "import matplotlib.pyplot as plt\n",
    "acc=history.history['acc']\n",
    "val_acc=history.history['val_acc']\n",
    "loss=history.history['loss']\n",
    "val_loss=history.history['val_loss']\n",
    "\n",
    "epochs=range(1,len(acc)+1)\n",
    "plt.plot(epochs,acc,'bo',label='Training acc')\n",
    "plt.plot(epochs,val_acc,'b',label='Validation acc')\n",
    "plt.title('Training and validation accuracy')\n",
    "plt.legend()\n",
    "plt.figure()"
   ]
  },
  {
   "cell_type": "code",
   "execution_count": 20,
   "metadata": {},
   "outputs": [
    {
     "data": {
      "text/plain": [
       "<Figure size 432x288 with 0 Axes>"
      ]
     },
     "execution_count": 20,
     "metadata": {},
     "output_type": "execute_result"
    },
    {
     "data": {
      "image/png": "[encoded data removed]",
      "text/plain": [
       "<Figure size 432x288 with 1 Axes>"
      ]
     },
     "metadata": {
      "needs_background": "light"
     },
     "output_type": "display_data"
    },
    {
     "data": {
      "text/plain": [
       "<Figure size 432x288 with 0 Axes>"
      ]
     },
     "metadata": {},
     "output_type": "display_data"
    }
   ],
   "source": [
    "plt.plot(epochs,loss,'bo',label='Training loss')\n",
    "plt.plot(epochs,val_loss,'b',label='Validation loss')\n",
    "plt.title('Training and validation loss')\n",
    "plt.legend()\n",
    "plt.figure()"
   ]
  },
  {
   "cell_type": "code",
   "execution_count": 6,
   "metadata": {},
   "outputs": [],
   "source": [
    "from keras import models\n",
    "from keras import layers\n",
    "from keras import optimizers\n",
    "new_model=models.Sequential()\n",
    "new_model.add(conv_base)\n",
    "new_model.add(layers.Flatten())\n",
    "new_model.add(layers.Dense(256,activation='relu'))\n",
    "new_model.add(layers.Dense(1,activation='sigmoid'))"
   ]
  },
  {
   "cell_type": "code",
   "execution_count": 7,
   "metadata": {},
   "outputs": [
    {
     "name": "stdout",
     "output_type": "stream",
     "text": [
      "This is the number of trainable weights before freezing the conv base: 30\n"
     ]
    }
   ],
   "source": [
    "print('This is the number of trainable weights before freezing the conv base:', len(new_model.trainable_weights))\n",
    "conv_base.trainable=False"
   ]
  },
  {
   "cell_type": "code",
   "execution_count": 8,
   "metadata": {},
   "outputs": [
    {
     "name": "stdout",
     "output_type": "stream",
     "text": [
      "This is the number of trainable weights after freezing the conv base: 4\n"
     ]
    }
   ],
   "source": [
    "print('This is the number of trainable weights after freezing the conv base:', len(new_model.trainable_weights))"
   ]
  },
  {
   "cell_type": "code",
   "execution_count": 9,
   "metadata": {},
   "outputs": [],
   "source": [
    "train_datagen=ImageDataGenerator(\n",
    "    rescale=1./255,rotation_range=40,width_shift_range=0.2,height_shift_range=0.2,shear_range=0.2,\n",
    "    zoom_range=0.2,horizontal_flip=True,fill_mode='nearest')\n",
    "test_datagen=ImageDataGenerator(rescale=1./255)\n",
    "\n"
   ]
  },
  {
   "cell_type": "code",
   "execution_count": 16,
   "metadata": {},
   "outputs": [
    {
     "name": "stdout",
     "output_type": "stream",
     "text": [
      "Found 2000 images belonging to 2 classes.\n",
      "Found 1000 images belonging to 2 classes.\n",
      "WARNING:tensorflow:From /home/bagrat/anaconda3/lib/python3.7/site-packages/tensorflow/python/ops/math_ops.py:3066: to_int32 (from tensorflow.python.ops.math_ops) is deprecated and will be removed in a future version.\n",
      "Instructions for updating:\n",
      "Use tf.cast instead.\n",
      "Epoch 1/30\n",
      "100/100 [==============================] - 15s 152ms/step - loss: 0.5885 - acc: 0.6895 - val_loss: 0.4492 - val_acc: 0.8250\n",
      "Epoch 2/30\n",
      "100/100 [==============================] - 14s 140ms/step - loss: 0.4821 - acc: 0.7880 - val_loss: 0.3893 - val_acc: 0.8500\n",
      "Epoch 3/30\n",
      "100/100 [==============================] - 14s 140ms/step - loss: 0.4355 - acc: 0.8120 - val_loss: 0.3304 - val_acc: 0.8640\n",
      "Epoch 4/30\n",
      "100/100 [==============================] - 14s 139ms/step - loss: 0.3947 - acc: 0.8300 - val_loss: 0.3080 - val_acc: 0.8690\n",
      "Epoch 5/30\n",
      "100/100 [==============================] - 14s 137ms/step - loss: 0.3735 - acc: 0.8380 - val_loss: 0.2928 - val_acc: 0.8830\n",
      "Epoch 6/30\n",
      "100/100 [==============================] - 14s 140ms/step - loss: 0.3646 - acc: 0.8395 - val_loss: 0.2818 - val_acc: 0.8790\n",
      "Epoch 7/30\n",
      "100/100 [==============================] - 14s 140ms/step - loss: 0.3666 - acc: 0.8380 - val_loss: 0.2776 - val_acc: 0.8890\n",
      "Epoch 8/30\n",
      "100/100 [==============================] - 14s 140ms/step - loss: 0.3534 - acc: 0.8395 - val_loss: 0.2758 - val_acc: 0.8820\n",
      "Epoch 9/30\n",
      "100/100 [==============================] - 14s 141ms/step - loss: 0.3550 - acc: 0.8435 - val_loss: 0.2772 - val_acc: 0.8840\n",
      "Epoch 10/30\n",
      "100/100 [==============================] - 14s 139ms/step - loss: 0.3381 - acc: 0.8615 - val_loss: 0.2604 - val_acc: 0.8910\n",
      "Epoch 11/30\n",
      "100/100 [==============================] - 14s 140ms/step - loss: 0.3258 - acc: 0.8595 - val_loss: 0.2564 - val_acc: 0.8880\n",
      "Epoch 12/30\n",
      "100/100 [==============================] - 14s 141ms/step - loss: 0.3205 - acc: 0.8710 - val_loss: 0.2554 - val_acc: 0.8900\n",
      "Epoch 13/30\n",
      "100/100 [==============================] - 14s 140ms/step - loss: 0.3367 - acc: 0.8515 - val_loss: 0.2549 - val_acc: 0.8920\n",
      "Epoch 14/30\n",
      "100/100 [==============================] - 14s 141ms/step - loss: 0.3316 - acc: 0.8490 - val_loss: 0.2487 - val_acc: 0.8980\n",
      "Epoch 15/30\n",
      "100/100 [==============================] - 14s 139ms/step - loss: 0.3095 - acc: 0.8605 - val_loss: 0.2481 - val_acc: 0.8960\n",
      "Epoch 16/30\n",
      "100/100 [==============================] - 14s 141ms/step - loss: 0.3123 - acc: 0.8615 - val_loss: 0.2465 - val_acc: 0.8970\n",
      "Epoch 17/30\n",
      "100/100 [==============================] - 14s 142ms/step - loss: 0.3127 - acc: 0.8765 - val_loss: 0.2482 - val_acc: 0.9000\n",
      "Epoch 18/30\n",
      "100/100 [==============================] - 14s 140ms/step - loss: 0.2961 - acc: 0.8740 - val_loss: 0.2516 - val_acc: 0.8960\n",
      "Epoch 19/30\n",
      "100/100 [==============================] - 14s 141ms/step - loss: 0.3074 - acc: 0.8710 - val_loss: 0.2472 - val_acc: 0.8960\n",
      "Epoch 20/30\n",
      "100/100 [==============================] - 14s 140ms/step - loss: 0.3053 - acc: 0.8690 - val_loss: 0.2434 - val_acc: 0.8980\n",
      "Epoch 21/30\n",
      "100/100 [==============================] - 14s 140ms/step - loss: 0.3042 - acc: 0.8765 - val_loss: 0.2613 - val_acc: 0.8910\n",
      "Epoch 22/30\n",
      "100/100 [==============================] - 14s 141ms/step - loss: 0.3032 - acc: 0.8730 - val_loss: 0.2520 - val_acc: 0.8970\n",
      "Epoch 23/30\n",
      "100/100 [==============================] - 14s 141ms/step - loss: 0.2981 - acc: 0.8685 - val_loss: 0.2424 - val_acc: 0.8980\n",
      "Epoch 24/30\n",
      "100/100 [==============================] - 14s 142ms/step - loss: 0.2935 - acc: 0.8695 - val_loss: 0.2404 - val_acc: 0.9000\n",
      "Epoch 25/30\n",
      "100/100 [==============================] - 14s 140ms/step - loss: 0.2930 - acc: 0.8725 - val_loss: 0.2397 - val_acc: 0.9030\n",
      "Epoch 26/30\n",
      "100/100 [==============================] - 14s 141ms/step - loss: 0.3025 - acc: 0.8720 - val_loss: 0.2378 - val_acc: 0.9040\n",
      "Epoch 27/30\n",
      "100/100 [==============================] - 14s 140ms/step - loss: 0.2807 - acc: 0.8840 - val_loss: 0.2589 - val_acc: 0.8890\n",
      "Epoch 28/30\n",
      "100/100 [==============================] - 14s 140ms/step - loss: 0.2715 - acc: 0.8805 - val_loss: 0.2344 - val_acc: 0.9020\n",
      "Epoch 29/30\n",
      "100/100 [==============================] - 14s 141ms/step - loss: 0.2874 - acc: 0.8720 - val_loss: 0.2376 - val_acc: 0.8990\n",
      "Epoch 30/30\n",
      "100/100 [==============================] - 14s 140ms/step - loss: 0.2776 - acc: 0.8800 - val_loss: 0.2361 - val_acc: 0.8990\n"
     ]
    }
   ],
   "source": [
    "train_generator=train_datagen.flow_from_directory(\n",
    "    train_dir,target_size=(150,150),batch_size=20,class_mode='binary')\n",
    "\n",
    "validation_generator=test_datagen.flow_from_directory(\n",
    "    validation_dir,target_size=(150,150),batch_size=20, class_mode='binary')\n",
    "new_model.compile(loss='binary_crossentropy',optimizer=optimizers.RMSprop(lr=2e-5),metrics=['acc'])\n",
    "\n",
    "history=new_model.fit_generator(train_generator,steps_per_epoch=100,epochs=30,validation_data=validation_generator,validation_steps=50)"
   ]
  },
  {
   "cell_type": "code",
   "execution_count": null,
   "metadata": {},
   "outputs": [],
   "source": []
  }
 ],
 "metadata": {
  "kernelspec": {
   "display_name": "Python 3",
   "language": "python",
   "name": "python3"
  },
  "language_info": {
   "codemirror_mode": {
    "name": "ipython",
    "version": 3
   },
   "file_extension": ".py",
   "mimetype": "text/x-python",
   "name": "python",
   "nbconvert_exporter": "python",
   "pygments_lexer": "ipython3",
   "version": "3.7.3"
  }
 },
 "nbformat": 4,
 "nbformat_minor": 2
}
