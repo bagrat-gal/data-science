{
 "cells": [
  {
   "cell_type": "code",
   "execution_count": 23,
   "metadata": {},
   "outputs": [],
   "source": [
    "from keras.layers import Embedding\n",
    "embedding_layer=Embedding(1000,64)\n",
    "\n",
    "from keras.datasets import imdb\n",
    "from keras import preprocessing\n",
    "\n",
    "max_features=10000\n",
    "maxlen=100\n",
    "(x_train,y_train),(x_test,y_test)=imdb.load_data(num_words=max_features)"
   ]
  },
  {
   "cell_type": "code",
   "execution_count": 24,
   "metadata": {},
   "outputs": [
    {
     "data": {
      "text/plain": [
       "[1,\n",
       " 3420,\n",
       " 9,\n",
       " 34,\n",
       " 230,\n",
       " 61,\n",
       " 514,\n",
       " 7,\n",
       " 32,\n",
       " 7,\n",
       " 5712,\n",
       " 495,\n",
       " 2,\n",
       " 9,\n",
       " 31,\n",
       " 2304,\n",
       " 7,\n",
       " 35,\n",
       " 284,\n",
       " 27,\n",
       " 1146,\n",
       " 7,\n",
       " 14,\n",
       " 16,\n",
       " 43,\n",
       " 480,\n",
       " 27,\n",
       " 2,\n",
       " 71,\n",
       " 2877,\n",
       " 18,\n",
       " 17,\n",
       " 196,\n",
       " 17,\n",
       " 12,\n",
       " 16,\n",
       " 12,\n",
       " 9,\n",
       " 1281,\n",
       " 18,\n",
       " 6,\n",
       " 22,\n",
       " 8,\n",
       " 1070,\n",
       " 61,\n",
       " 602,\n",
       " 190,\n",
       " 13,\n",
       " 16,\n",
       " 2,\n",
       " 11,\n",
       " 14,\n",
       " 843,\n",
       " 418,\n",
       " 13,\n",
       " 386,\n",
       " 14,\n",
       " 8,\n",
       " 259,\n",
       " 199,\n",
       " 337,\n",
       " 7,\n",
       " 2282,\n",
       " 5,\n",
       " 148,\n",
       " 24,\n",
       " 38,\n",
       " 76,\n",
       " 14,\n",
       " 47,\n",
       " 285,\n",
       " 4,\n",
       " 682,\n",
       " 182,\n",
       " 272,\n",
       " 18,\n",
       " 11,\n",
       " 94,\n",
       " 108,\n",
       " 588,\n",
       " 5465,\n",
       " 5,\n",
       " 2,\n",
       " 24,\n",
       " 8,\n",
       " 3296,\n",
       " 3774,\n",
       " 2,\n",
       " 310,\n",
       " 21,\n",
       " 2,\n",
       " 2442,\n",
       " 4,\n",
       " 226,\n",
       " 157,\n",
       " 14,\n",
       " 889,\n",
       " 57,\n",
       " 1654,\n",
       " 2,\n",
       " 54,\n",
       " 25,\n",
       " 1363,\n",
       " 4,\n",
       " 22,\n",
       " 12,\n",
       " 80,\n",
       " 235,\n",
       " 17,\n",
       " 48,\n",
       " 25,\n",
       " 332,\n",
       " 4,\n",
       " 297,\n",
       " 624,\n",
       " 7023,\n",
       " 89,\n",
       " 25,\n",
       " 135,\n",
       " 107,\n",
       " 3366,\n",
       " 56]"
      ]
     },
     "execution_count": 24,
     "metadata": {},
     "output_type": "execute_result"
    }
   ],
   "source": [
    "x_train[44]"
   ]
  },
  {
   "cell_type": "code",
   "execution_count": 25,
   "metadata": {},
   "outputs": [
    {
     "data": {
      "text/plain": [
       "array([ 473,   61,  278,  145,   13, 1040,    8,    4,  167, 2254,   90,\n",
       "          8,    2,   61,   20, 3602,    7,  265,   13,  161, 3911,    6,\n",
       "          2,   42,   60,    6,    2,   21,   45,    4,  213,   15, 2294,\n",
       "         23,    6, 2407,    7,  300,  158,   13,  202,   14,   20,    6,\n",
       "          2,  138,  122,    4,    2, 8757,    2,  570,  620,   39,  112,\n",
       "        569,   19,    6, 2916,  138,  122,   36,  569,    4,    2, 8757,\n",
       "          2,   19,    4, 2916,   11,    4,   86,  273,  305,    7, 5166,\n",
       "          4,    2, 5258,    4,  114,   16, 1523,    4,   20, 1061,   19,\n",
       "        578, 1807,    5,  813,  531,    7,   12,   43,  161,   97,  101,\n",
       "        281], dtype=int32)"
      ]
     },
     "execution_count": 25,
     "metadata": {},
     "output_type": "execute_result"
    }
   ],
   "source": [
    "x_train=preprocessing.sequence.pad_sequences(x_train,maxlen=maxlen)\n",
    "x_test=preprocessing.sequence.pad_sequences(x_test,maxlen=maxlen)\n",
    "x_train[4544]"
   ]
  },
  {
   "cell_type": "code",
   "execution_count": 28,
   "metadata": {},
   "outputs": [
    {
     "name": "stdout",
     "output_type": "stream",
     "text": [
      "_________________________________________________________________\n",
      "Layer (type)                 Output Shape              Param #   \n",
      "=================================================================\n",
      "embedding_10 (Embedding)     (None, 100, 8)            80000     \n",
      "_________________________________________________________________\n",
      "flatten_5 (Flatten)          (None, 800)               0         \n",
      "_________________________________________________________________\n",
      "dense_5 (Dense)              (None, 1)                 801       \n",
      "=================================================================\n",
      "Total params: 80,801\n",
      "Trainable params: 80,801\n",
      "Non-trainable params: 0\n",
      "_________________________________________________________________\n"
     ]
    }
   ],
   "source": [
    "from keras.models import Sequential\n",
    "from keras.layers import Flatten,Dense,Embedding\n",
    "\n",
    "new_model1=Sequential()\n",
    "new_model1.add(Embedding(10000,8,input_length=maxlen))\n",
    "new_model1.add(Flatten())\n",
    "new_model1.add(Dense(1,activation='sigmoid'))\n",
    "new_model1.compile(optimizer='rmsprop',loss='binary_crossentropy',metrics=['acc'])\n",
    "new_model1.summary()"
   ]
  },
  {
   "cell_type": "code",
   "execution_count": 29,
   "metadata": {},
   "outputs": [
    {
     "name": "stdout",
     "output_type": "stream",
     "text": [
      "Epoch 1/10\n",
      "25000/25000 [==============================] - 2s 80us/step - loss: 0.5685 - acc: 0.7262\n",
      "Epoch 2/10\n",
      "25000/25000 [==============================] - 2s 72us/step - loss: 0.3248 - acc: 0.8651\n",
      "Epoch 3/10\n",
      "25000/25000 [==============================] - 2s 71us/step - loss: 0.2648 - acc: 0.8894\n",
      "Epoch 4/10\n",
      "25000/25000 [==============================] - 2s 71us/step - loss: 0.2360 - acc: 0.9010\n",
      "Epoch 5/10\n",
      "25000/25000 [==============================] - 2s 73us/step - loss: 0.2158 - acc: 0.9116\n",
      "Epoch 6/10\n",
      "25000/25000 [==============================] - 2s 72us/step - loss: 0.1986 - acc: 0.9198\n",
      "Epoch 7/10\n",
      "25000/25000 [==============================] - 2s 72us/step - loss: 0.1827 - acc: 0.9283\n",
      "Epoch 8/10\n",
      "25000/25000 [==============================] - 2s 71us/step - loss: 0.1671 - acc: 0.9353\n",
      "Epoch 9/10\n",
      "25000/25000 [==============================] - 2s 73us/step - loss: 0.1511 - acc: 0.9440\n",
      "Epoch 10/10\n",
      "25000/25000 [==============================] - 2s 71us/step - loss: 0.1357 - acc: 0.9503\n"
     ]
    }
   ],
   "source": [
    "history=new_model1.fit(x_test,y_test,epochs=10,batch_size=32)"
   ]
  },
  {
   "cell_type": "code",
   "execution_count": null,
   "metadata": {},
   "outputs": [],
   "source": []
  },
  {
   "cell_type": "code",
   "execution_count": null,
   "metadata": {},
   "outputs": [],
   "source": []
  }
 ],
 "metadata": {
  "kernelspec": {
   "display_name": "Python 3",
   "language": "python",
   "name": "python3"
  },
  "language_info": {
   "codemirror_mode": {
    "name": "ipython",
    "version": 3
   },
   "file_extension": ".py",
   "mimetype": "text/x-python",
   "name": "python",
   "nbconvert_exporter": "python",
   "pygments_lexer": "ipython3",
   "version": "3.7.3"
  }
 },
 "nbformat": 4,
 "nbformat_minor": 2
}
