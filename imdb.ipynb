{
 "cells": [
  {
   "cell_type": "code",
   "execution_count": 1,
   "metadata": {},
   "outputs": [
    {
     "name": "stderr",
     "output_type": "stream",
     "text": [
      "Using TensorFlow backend.\n"
     ]
    }
   ],
   "source": [
    "from keras.datasets import imdb\n",
    "(train_data,train_labels),(test_data,test_labels)=imdb.load_data(num_words=10000)\n"
   ]
  },
  {
   "cell_type": "code",
   "execution_count": 139,
   "metadata": {},
   "outputs": [
    {
     "data": {
      "text/plain": [
       "[1,\n",
       " 14,\n",
       " 22,\n",
       " 16,\n",
       " 43,\n",
       " 530,\n",
       " 973,\n",
       " 1622,\n",
       " 1385,\n",
       " 65,\n",
       " 458,\n",
       " 4468,\n",
       " 66,\n",
       " 3941,\n",
       " 4,\n",
       " 173,\n",
       " 36,\n",
       " 256,\n",
       " 5,\n",
       " 25,\n",
       " 100,\n",
       " 43,\n",
       " 838,\n",
       " 112,\n",
       " 50,\n",
       " 670,\n",
       " 2,\n",
       " 9,\n",
       " 35,\n",
       " 480,\n",
       " 284,\n",
       " 5,\n",
       " 150,\n",
       " 4,\n",
       " 172,\n",
       " 112,\n",
       " 167,\n",
       " 2,\n",
       " 336,\n",
       " 385,\n",
       " 39,\n",
       " 4,\n",
       " 172,\n",
       " 4536,\n",
       " 1111,\n",
       " 17,\n",
       " 546,\n",
       " 38,\n",
       " 13,\n",
       " 447,\n",
       " 4,\n",
       " 192,\n",
       " 50,\n",
       " 16,\n",
       " 6,\n",
       " 147,\n",
       " 2025,\n",
       " 19,\n",
       " 14,\n",
       " 22,\n",
       " 4,\n",
       " 1920,\n",
       " 4613,\n",
       " 469,\n",
       " 4,\n",
       " 22,\n",
       " 71,\n",
       " 87,\n",
       " 12,\n",
       " 16,\n",
       " 43,\n",
       " 530,\n",
       " 38,\n",
       " 76,\n",
       " 15,\n",
       " 13,\n",
       " 1247,\n",
       " 4,\n",
       " 22,\n",
       " 17,\n",
       " 515,\n",
       " 17,\n",
       " 12,\n",
       " 16,\n",
       " 626,\n",
       " 18,\n",
       " 2,\n",
       " 5,\n",
       " 62,\n",
       " 386,\n",
       " 12,\n",
       " 8,\n",
       " 316,\n",
       " 8,\n",
       " 106,\n",
       " 5,\n",
       " 4,\n",
       " 2223,\n",
       " 5244,\n",
       " 16,\n",
       " 480,\n",
       " 66,\n",
       " 3785,\n",
       " 33,\n",
       " 4,\n",
       " 130,\n",
       " 12,\n",
       " 16,\n",
       " 38,\n",
       " 619,\n",
       " 5,\n",
       " 25,\n",
       " 124,\n",
       " 51,\n",
       " 36,\n",
       " 135,\n",
       " 48,\n",
       " 25,\n",
       " 1415,\n",
       " 33,\n",
       " 6,\n",
       " 22,\n",
       " 12,\n",
       " 215,\n",
       " 28,\n",
       " 77,\n",
       " 52,\n",
       " 5,\n",
       " 14,\n",
       " 407,\n",
       " 16,\n",
       " 82,\n",
       " 2,\n",
       " 8,\n",
       " 4,\n",
       " 107,\n",
       " 117,\n",
       " 5952,\n",
       " 15,\n",
       " 256,\n",
       " 4,\n",
       " 2,\n",
       " 7,\n",
       " 3766,\n",
       " 5,\n",
       " 723,\n",
       " 36,\n",
       " 71,\n",
       " 43,\n",
       " 530,\n",
       " 476,\n",
       " 26,\n",
       " 400,\n",
       " 317,\n",
       " 46,\n",
       " 7,\n",
       " 4,\n",
       " 2,\n",
       " 1029,\n",
       " 13,\n",
       " 104,\n",
       " 88,\n",
       " 4,\n",
       " 381,\n",
       " 15,\n",
       " 297,\n",
       " 98,\n",
       " 32,\n",
       " 2071,\n",
       " 56,\n",
       " 26,\n",
       " 141,\n",
       " 6,\n",
       " 194,\n",
       " 7486,\n",
       " 18,\n",
       " 4,\n",
       " 226,\n",
       " 22,\n",
       " 21,\n",
       " 134,\n",
       " 476,\n",
       " 26,\n",
       " 480,\n",
       " 5,\n",
       " 144,\n",
       " 30,\n",
       " 5535,\n",
       " 18,\n",
       " 51,\n",
       " 36,\n",
       " 28,\n",
       " 224,\n",
       " 92,\n",
       " 25,\n",
       " 104,\n",
       " 4,\n",
       " 226,\n",
       " 65,\n",
       " 16,\n",
       " 38,\n",
       " 1334,\n",
       " 88,\n",
       " 12,\n",
       " 16,\n",
       " 283,\n",
       " 5,\n",
       " 16,\n",
       " 4472,\n",
       " 113,\n",
       " 103,\n",
       " 32,\n",
       " 15,\n",
       " 16,\n",
       " 5345,\n",
       " 19,\n",
       " 178,\n",
       " 32]"
      ]
     },
     "execution_count": 139,
     "metadata": {},
     "output_type": "execute_result"
    }
   ],
   "source": [
    "train_data[0]"
   ]
  },
  {
   "cell_type": "code",
   "execution_count": 17,
   "metadata": {},
   "outputs": [],
   "source": [
    "import numpy as np"
   ]
  },
  {
   "cell_type": "code",
   "execution_count": 58,
   "metadata": {},
   "outputs": [],
   "source": [
    "def vectorize_sequences(sequences,dimension=10000):\n",
    "    results=np.zeros((len(sequences), dimension))\n",
    "    for i,sequence in enumerate(sequences):\n",
    "        results[i,sequence]=1\n",
    "    return results"
   ]
  },
  {
   "cell_type": "code",
   "execution_count": 59,
   "metadata": {},
   "outputs": [],
   "source": [
    "x_train=vectorize_sequences(train_data)\n",
    "x_test=vectorize_sequences(test_data)\n",
    "y_train=np.asarray(train_labels).astype('float32')\n",
    "y_test=np.asarray(test_labels).astype('float32')\n",
    "\n"
   ]
  },
  {
   "cell_type": "code",
   "execution_count": 60,
   "metadata": {},
   "outputs": [
    {
     "name": "stdout",
     "output_type": "stream",
     "text": [
      "[0. 1. 1. ... 0. 0. 0.]\n"
     ]
    }
   ],
   "source": [
    "print(x_train[22999])"
   ]
  },
  {
   "cell_type": "code",
   "execution_count": 135,
   "metadata": {},
   "outputs": [],
   "source": [
    "from keras import models\n",
    "from keras import layers\n",
    "\n",
    "model=models.Sequential()\n",
    "model.add(layers.Dense(64,activation='relu',input_shape=(10000,)))\n",
    "model.add(layers.Dense(64,activation='relu'))\n",
    "\n",
    "model.add(layers.Dense(1,activation='sigmoid'))"
   ]
  },
  {
   "cell_type": "code",
   "execution_count": null,
   "metadata": {},
   "outputs": [],
   "source": []
  },
  {
   "cell_type": "code",
   "execution_count": 136,
   "metadata": {},
   "outputs": [],
   "source": [
    "\n",
    "x_val=x_train[:10000]\n",
    "partial_x_train=x_train[10000:]\n",
    "y_val=y_train[:10000]\n",
    "partial_y_train=y_train[10000:]"
   ]
  },
  {
   "cell_type": "code",
   "execution_count": 137,
   "metadata": {},
   "outputs": [],
   "source": [
    "model.compile(optimizer='rmsprop',loss='mse',metrics=['accuracy'])"
   ]
  },
  {
   "cell_type": "code",
   "execution_count": 141,
   "metadata": {},
   "outputs": [
    {
     "name": "stdout",
     "output_type": "stream",
     "text": [
      "Epoch 1/60\n",
      "15000/15000 [==============================] - 1s 47us/step - loss: 0.0054 - acc: 0.9955\n",
      "Epoch 2/60\n",
      "15000/15000 [==============================] - 1s 47us/step - loss: 0.0113 - acc: 0.9864\n",
      "Epoch 3/60\n",
      "15000/15000 [==============================] - 1s 46us/step - loss: 0.0033 - acc: 0.9969\n",
      "Epoch 4/60\n",
      "15000/15000 [==============================] - 1s 47us/step - loss: 0.0108 - acc: 0.9872\n",
      "Epoch 5/60\n",
      "15000/15000 [==============================] - 1s 47us/step - loss: 0.0024 - acc: 0.9977\n",
      "Epoch 6/60\n",
      "15000/15000 [==============================] - 1s 47us/step - loss: 0.0021 - acc: 0.9980\n",
      "Epoch 7/60\n",
      "15000/15000 [==============================] - 1s 47us/step - loss: 0.0092 - acc: 0.9883\n",
      "Epoch 8/60\n",
      "15000/15000 [==============================] - 1s 47us/step - loss: 0.0017 - acc: 0.9983\n",
      "Epoch 9/60\n",
      "15000/15000 [==============================] - 1s 47us/step - loss: 0.0016 - acc: 0.9984\n",
      "Epoch 10/60\n",
      "15000/15000 [==============================] - 1s 47us/step - loss: 0.0082 - acc: 0.9907\n",
      "Epoch 11/60\n",
      "15000/15000 [==============================] - 1s 47us/step - loss: 0.0015 - acc: 0.9985\n",
      "Epoch 12/60\n",
      "15000/15000 [==============================] - 1s 47us/step - loss: 0.0014 - acc: 0.9987\n",
      "Epoch 13/60\n",
      "15000/15000 [==============================] - 1s 47us/step - loss: 0.0086 - acc: 0.9898\n",
      "Epoch 14/60\n",
      "15000/15000 [==============================] - 1s 47us/step - loss: 0.0011 - acc: 0.9989\n",
      "Epoch 15/60\n",
      "15000/15000 [==============================] - 1s 47us/step - loss: 0.0011 - acc: 0.9989\n",
      "Epoch 16/60\n",
      "15000/15000 [==============================] - 1s 47us/step - loss: 0.0011 - acc: 0.9989\n",
      "Epoch 17/60\n",
      "15000/15000 [==============================] - 1s 46us/step - loss: 0.0011 - acc: 0.9989\n",
      "Epoch 18/60\n",
      "15000/15000 [==============================] - 1s 46us/step - loss: 0.0067 - acc: 0.9916\n",
      "Epoch 19/60\n",
      "15000/15000 [==============================] - 1s 47us/step - loss: 0.0011 - acc: 0.9989\n",
      "Epoch 20/60\n",
      "15000/15000 [==============================] - 1s 47us/step - loss: 0.0011 - acc: 0.9989\n",
      "Epoch 21/60\n",
      "15000/15000 [==============================] - 1s 49us/step - loss: 0.0011 - acc: 0.9989\n",
      "Epoch 22/60\n",
      "15000/15000 [==============================] - 1s 46us/step - loss: 0.0011 - acc: 0.9989\n",
      "Epoch 23/60\n",
      "15000/15000 [==============================] - 1s 45us/step - loss: 0.0011 - acc: 0.9989\n",
      "Epoch 24/60\n",
      "15000/15000 [==============================] - 1s 46us/step - loss: 0.0011 - acc: 0.9989\n",
      "Epoch 25/60\n",
      "15000/15000 [==============================] - 1s 48us/step - loss: 0.0011 - acc: 0.9989\n",
      "Epoch 26/60\n",
      "15000/15000 [==============================] - 1s 47us/step - loss: 0.0011 - acc: 0.9989\n",
      "Epoch 27/60\n",
      "15000/15000 [==============================] - 1s 49us/step - loss: 0.0011 - acc: 0.9989\n",
      "Epoch 28/60\n",
      "15000/15000 [==============================] - 1s 47us/step - loss: 0.0011 - acc: 0.9989\n",
      "Epoch 29/60\n",
      "15000/15000 [==============================] - 1s 46us/step - loss: 0.0011 - acc: 0.9989\n",
      "Epoch 30/60\n",
      "15000/15000 [==============================] - 1s 48us/step - loss: 0.0011 - acc: 0.9989\n",
      "Epoch 31/60\n",
      "15000/15000 [==============================] - 1s 47us/step - loss: 0.0011 - acc: 0.9989\n",
      "Epoch 32/60\n",
      "15000/15000 [==============================] - 1s 47us/step - loss: 0.0011 - acc: 0.9989\n",
      "Epoch 33/60\n",
      "15000/15000 [==============================] - 1s 47us/step - loss: 0.0011 - acc: 0.9989\n",
      "Epoch 34/60\n",
      "15000/15000 [==============================] - 1s 46us/step - loss: 0.0011 - acc: 0.9989\n",
      "Epoch 35/60\n",
      "15000/15000 [==============================] - 1s 46us/step - loss: 0.0011 - acc: 0.9989\n",
      "Epoch 36/60\n",
      "15000/15000 [==============================] - 1s 46us/step - loss: 0.0011 - acc: 0.9989\n",
      "Epoch 37/60\n",
      "15000/15000 [==============================] - 1s 46us/step - loss: 0.0011 - acc: 0.9989\n",
      "Epoch 38/60\n",
      "15000/15000 [==============================] - 1s 46us/step - loss: 0.0011 - acc: 0.9989\n",
      "Epoch 39/60\n",
      "15000/15000 [==============================] - 1s 46us/step - loss: 0.0011 - acc: 0.9989\n",
      "Epoch 40/60\n",
      "15000/15000 [==============================] - 1s 46us/step - loss: 0.0011 - acc: 0.9989\n",
      "Epoch 41/60\n",
      "15000/15000 [==============================] - 1s 46us/step - loss: 0.0011 - acc: 0.9989\n",
      "Epoch 42/60\n",
      "15000/15000 [==============================] - 1s 46us/step - loss: 0.0011 - acc: 0.9989\n",
      "Epoch 43/60\n",
      "15000/15000 [==============================] - 1s 46us/step - loss: 0.0011 - acc: 0.9989\n",
      "Epoch 44/60\n",
      "15000/15000 [==============================] - 1s 47us/step - loss: 0.0011 - acc: 0.9989\n",
      "Epoch 45/60\n",
      "15000/15000 [==============================] - 1s 46us/step - loss: 0.0011 - acc: 0.9989\n",
      "Epoch 46/60\n",
      "15000/15000 [==============================] - 1s 47us/step - loss: 0.0011 - acc: 0.9989\n",
      "Epoch 47/60\n",
      "15000/15000 [==============================] - 1s 43us/step - loss: 0.0011 - acc: 0.9989\n",
      "Epoch 48/60\n",
      "15000/15000 [==============================] - 1s 43us/step - loss: 0.0011 - acc: 0.9989\n",
      "Epoch 49/60\n",
      "15000/15000 [==============================] - 1s 43us/step - loss: 0.0011 - acc: 0.9989\n",
      "Epoch 50/60\n",
      "15000/15000 [==============================] - 1s 43us/step - loss: 0.0011 - acc: 0.9989\n",
      "Epoch 51/60\n",
      "15000/15000 [==============================] - 1s 43us/step - loss: 0.0011 - acc: 0.9989\n",
      "Epoch 52/60\n",
      "15000/15000 [==============================] - 1s 43us/step - loss: 0.0011 - acc: 0.9989\n",
      "Epoch 53/60\n",
      "15000/15000 [==============================] - 1s 44us/step - loss: 0.0011 - acc: 0.9989\n",
      "Epoch 54/60\n",
      "15000/15000 [==============================] - 1s 44us/step - loss: 0.0011 - acc: 0.9989\n",
      "Epoch 55/60\n",
      "15000/15000 [==============================] - 1s 43us/step - loss: 0.0011 - acc: 0.9989\n",
      "Epoch 56/60\n",
      "15000/15000 [==============================] - 1s 44us/step - loss: 0.0011 - acc: 0.9989\n",
      "Epoch 57/60\n",
      "15000/15000 [==============================] - 1s 44us/step - loss: 0.0011 - acc: 0.9989\n",
      "Epoch 58/60\n",
      "15000/15000 [==============================] - 1s 43us/step - loss: 0.0011 - acc: 0.9989\n",
      "Epoch 59/60\n",
      "15000/15000 [==============================] - 1s 44us/step - loss: 0.0011 - acc: 0.9989\n",
      "Epoch 60/60\n",
      "15000/15000 [==============================] - 1s 45us/step - loss: 0.0011 - acc: 0.9989\n"
     ]
    }
   ],
   "source": [
    "history=model.fit(partial_x_train,partial_y_train,epochs=60, batch_size=512, )"
   ]
  },
  {
   "cell_type": "code",
   "execution_count": 118,
   "metadata": {
    "scrolled": true
   },
   "outputs": [
    {
     "name": "stdout",
     "output_type": "stream",
     "text": [
      "15000/15000 [==============================] - 1s 58us/step\n"
     ]
    },
    {
     "data": {
      "text/plain": [
       "array([[0.],\n",
       "       [0.],\n",
       "       [0.],\n",
       "       ...,\n",
       "       [0.],\n",
       "       [1.],\n",
       "       [0.]], dtype=float32)"
      ]
     },
     "execution_count": 118,
     "metadata": {},
     "output_type": "execute_result"
    }
   ],
   "source": [
    "results=model.evaluate(partial_x_train,partial_y_train)\n",
    "results\n",
    "model.predict(partial_x_train)\n",
    "\n"
   ]
  },
  {
   "cell_type": "code",
   "execution_count": 109,
   "metadata": {},
   "outputs": [
    {
     "data": {
      "text/plain": [
       "[<matplotlib.lines.Line2D at 0x7fc66bf092b0>]"
      ]
     },
     "execution_count": 109,
     "metadata": {},
     "output_type": "execute_result"
    },
    {
     "data": {
      "image/png": "[encoded data removed]",
      "text/plain": [
       "<Figure size 432x288 with 1 Axes>"
      ]
     },
     "metadata": {
      "needs_background": "light"
     },
     "output_type": "display_data"
    }
   ],
   "source": [
    "import matplotlib.pyplot as plt\n",
    "history_dict=history.history\n",
    "acc=history_dict['acc']\n",
    "loss=history_dict['loss']\n",
    "epochs=range(1,len(acc)+1)\n",
    "plt.plot(epochs,acc,'bo',)\n",
    "plt.plot(epochs,val_acc,'b',)\n"
   ]
  },
  {
   "cell_type": "code",
   "execution_count": null,
   "metadata": {},
   "outputs": [],
   "source": []
  },
  {
   "cell_type": "code",
   "execution_count": null,
   "metadata": {},
   "outputs": [],
   "source": []
  },
  {
   "cell_type": "code",
   "execution_count": null,
   "metadata": {},
   "outputs": [],
   "source": []
  }
 ],
 "metadata": {
  "kernelspec": {
   "display_name": "Python 3",
   "language": "python",
   "name": "python3"
  },
  "language_info": {
   "codemirror_mode": {
    "name": "ipython",
    "version": 3
   },
   "file_extension": ".py",
   "mimetype": "text/x-python",
   "name": "python",
   "nbconvert_exporter": "python",
   "pygments_lexer": "ipython3",
   "version": "3.7.3"
  }
 },
 "nbformat": 4,
 "nbformat_minor": 2
}
