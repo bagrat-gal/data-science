{
 "cells": [
  {
   "cell_type": "code",
   "execution_count": 13,
   "metadata": {},
   "outputs": [],
   "source": [
    "from keras.preprocessing.image import load_img,img_to_array\n",
    "target_image_path='/home/bagrat/Рабочий стол/giraffe.jpg'\n",
    "style_reference_image_path='/home/bagrat/Рабочий стол/cc597639552aee25245ef3016fin--kartiny-i-panno-kartina-tramvajnoe-nastroenie.jpg'\n",
    "\n",
    "width,height=load_img(target_image_path).size\n",
    "img_height=400\n",
    "img_width=int(width*img_height/height)\n"
   ]
  },
  {
   "cell_type": "code",
   "execution_count": 14,
   "metadata": {},
   "outputs": [],
   "source": [
    "import numpy as np\n",
    "from keras.applications import vgg19\n",
    "\n",
    "def preprocess_image(image_path):\n",
    "    img=load_img(image_path,target_size=(img_height,img_width))\n",
    "    img=img_to_array(img)\n",
    "    img=np.expand_dims(img,axis=0)\n",
    "    img=vgg19.preprocess_input(img)\n",
    "    return img\n",
    "def deprocess_image(x):\n",
    "    x[:,:,0]+=103.939\n",
    "    x[:,:,1]+=116.779\n",
    "    x[:,:,2]+=123.68\n",
    "    x=x[:,:,::-1]\n",
    "    x=x[:,:,::-1]\n",
    "    x=np.clip(x,0,255).astype('uint8')\n",
    "    return x"
   ]
  },
  {
   "cell_type": "code",
   "execution_count": 15,
   "metadata": {},
   "outputs": [
    {
     "name": "stdout",
     "output_type": "stream",
     "text": [
      "Model loaded.\n"
     ]
    }
   ],
   "source": [
    "from keras import backend as K\n",
    "target_image=K.constant(preprocess_image(target_image_path))\n",
    "style_reference_image=K.constant(preprocess_image(style_reference_image_path))\n",
    "combination_image=K.placeholder((1,img_height,img_width,3))\n",
    "input_tensor=K.concatenate([target_image,style_reference_image,combination_image],axis=0)\n",
    "model=vgg19.VGG19(input_tensor=input_tensor,weights='imagenet',include_top=False)\n",
    "print('Model loaded.')"
   ]
  },
  {
   "cell_type": "code",
   "execution_count": 16,
   "metadata": {},
   "outputs": [],
   "source": [
    "def content_loss(base,combination):\n",
    "    return K.sum(K.square(combination-base))"
   ]
  },
  {
   "cell_type": "code",
   "execution_count": 17,
   "metadata": {},
   "outputs": [],
   "source": [
    "def gram_matrix(x):\n",
    "    features=K.batch_flatten(K.permute_dimensions(x,(2,0,1)))\n",
    "    gram=K.dot(features,K.transpose(features))\n",
    "    return gram\n",
    "def style_loss(style,combination):\n",
    "    S=gram_matrix(style)\n",
    "    C=gram_matrix(combination)\n",
    "    channels=3\n",
    "    size=img_height*img_width\n",
    "    return K.sum(K.square(S-C))/(4.*(channels**2)*(size**2))"
   ]
  },
  {
   "cell_type": "code",
   "execution_count": 18,
   "metadata": {},
   "outputs": [],
   "source": [
    "def total_variation_loss(x):\n",
    "    a=K.square(x[:,:img_height-1,:img_width-1,:]-x[:,1:,:img_width-1,:])\n",
    "    b=K.square(x[:,:img_height-1,:img_width-1,:]-x[:,:img_height-1,1:,:])\n",
    "    return K.sum(K.pow(a+b,1.25))"
   ]
  },
  {
   "cell_type": "code",
   "execution_count": 19,
   "metadata": {},
   "outputs": [
    {
     "name": "stdout",
     "output_type": "stream",
     "text": [
      "WARNING:tensorflow:Variable += will be deprecated. Use variable.assign_add if you want assignment to the variable value or 'x = x + y' if you want a new python Tensor object.\n"
     ]
    }
   ],
   "source": [
    "\n",
    "outputs_dict=dict([(layer.name,layer.output) for layer in model.layers])\n",
    "content_layer='block5_conv2'\n",
    "style_layers=['block1_conv1','block2_conv1','block3_conv1','block4_conv1','block5_conv1']\n",
    "total_variation_weight=1e-4\n",
    "style_weight=1\n",
    "content_weight=0.025\n",
    "\n",
    "loss=K.variable(0)\n",
    "layer_features=outputs_dict[content_layer]\n",
    "target_image_features=layer_features[0,:,:,:]\n",
    "combination_features=layer_features[2,:,:,:]\n",
    "loss+=content_weight*content_loss(target_image_features,combination_features)\n",
    "\n",
    "for layer_name in style_layers:\n",
    "    layer_features=outputs_dict[layer_name]\n",
    "    style_reference_features=layer_features[1,:,:,:]\n",
    "    combination_features=layer_features[2,:,:,:]\n",
    "    sl=style_loss(style_reference_features,combination_features)\n",
    "    loss+=(style_weight/len(style_layers))*sl\n",
    "loss+=total_variation_weight*total_variation_loss(combination_image)"
   ]
  },
  {
   "cell_type": "code",
   "execution_count": 22,
   "metadata": {},
   "outputs": [],
   "source": [
    "grads=K.gradients(loss,combination_image)[0]\n",
    "fetch_loss_and_grads=K.function([combination_image],[loss,grads])\n",
    "class Evaluator(object):\n",
    "   \n",
    "    def _init_(self):\n",
    "        self.loss_value=None\n",
    "        self.grads_values=None\n",
    "    \n",
    "    def loss(self,x):\n",
    "        \n",
    "        x=x.reshape((1,img_height,img_width,3))\n",
    "        outs=fetch_loss_and_grads([x])\n",
    "        loss_value=outs[0]\n",
    "        grad_values=outs[1].flatten().astype('float64')\n",
    "        self.loss_value=loss_value\n",
    "        self.grad_values=grad_values\n",
    "        return self.loss_value\n",
    "    \n",
    "    def grads(self,x):\n",
    "        assert self.loss_value is not None\n",
    "        grad_values=np.copy(self.grad_values)\n",
    "        self.loss_value=None\n",
    "        self.grad_values=None\n",
    "        return grad_values\n",
    "\n",
    "evaluator=Evaluator()"
   ]
  },
  {
   "cell_type": "code",
   "execution_count": 23,
   "metadata": {},
   "outputs": [
    {
     "name": "stdout",
     "output_type": "stream",
     "text": [
      "Start of iterations 0\n",
      "Current loss value: 764009860.0\n",
      "Image saved as my_result_at_iteration_0.png\n",
      "Iteration0 completed in 14s\n",
      "Start of iterations 1\n"
     ]
    },
    {
     "name": "stderr",
     "output_type": "stream",
     "text": [
      "/home/bagrat/anaconda3/lib/python3.7/site-packages/ipykernel_launcher.py:18: DeprecationWarning: `imsave` is deprecated!\n",
      "`imsave` is deprecated in SciPy 1.0.0, and will be removed in 1.2.0.\n",
      "Use ``imageio.imwrite`` instead.\n"
     ]
    },
    {
     "name": "stdout",
     "output_type": "stream",
     "text": [
      "Current loss value: 321313900.0\n",
      "Image saved as my_result_at_iteration_1.png\n",
      "Iteration1 completed in 10s\n",
      "Start of iterations 2\n",
      "Current loss value: 214031630.0\n",
      "Image saved as my_result_at_iteration_2.png\n",
      "Iteration2 completed in 10s\n",
      "Start of iterations 3\n",
      "Current loss value: 163150770.0\n",
      "Image saved as my_result_at_iteration_3.png\n",
      "Iteration3 completed in 10s\n",
      "Start of iterations 4\n",
      "Current loss value: 139034480.0\n",
      "Image saved as my_result_at_iteration_4.png\n",
      "Iteration4 completed in 10s\n",
      "Start of iterations 5\n",
      "Current loss value: 124583760.0\n",
      "Image saved as my_result_at_iteration_5.png\n",
      "Iteration5 completed in 10s\n",
      "Start of iterations 6\n",
      "Current loss value: 112852890.0\n",
      "Image saved as my_result_at_iteration_6.png\n",
      "Iteration6 completed in 10s\n",
      "Start of iterations 7\n",
      "Current loss value: 101708536.0\n",
      "Image saved as my_result_at_iteration_7.png\n",
      "Iteration7 completed in 10s\n",
      "Start of iterations 8\n",
      "Current loss value: 93075080.0\n",
      "Image saved as my_result_at_iteration_8.png\n",
      "Iteration8 completed in 10s\n",
      "Start of iterations 9\n",
      "Current loss value: 87230350.0\n",
      "Image saved as my_result_at_iteration_9.png\n",
      "Iteration9 completed in 10s\n",
      "Start of iterations 10\n",
      "Current loss value: 83321170.0\n",
      "Image saved as my_result_at_iteration_10.png\n",
      "Iteration10 completed in 10s\n",
      "Start of iterations 11\n",
      "Current loss value: 79705784.0\n",
      "Image saved as my_result_at_iteration_11.png\n",
      "Iteration11 completed in 10s\n",
      "Start of iterations 12\n",
      "Current loss value: 76914580.0\n",
      "Image saved as my_result_at_iteration_12.png\n",
      "Iteration12 completed in 10s\n",
      "Start of iterations 13\n",
      "Current loss value: 74737260.0\n",
      "Image saved as my_result_at_iteration_13.png\n",
      "Iteration13 completed in 10s\n",
      "Start of iterations 14\n",
      "Current loss value: 72854424.0\n",
      "Image saved as my_result_at_iteration_14.png\n",
      "Iteration14 completed in 10s\n",
      "Start of iterations 15\n",
      "Current loss value: 70828056.0\n",
      "Image saved as my_result_at_iteration_15.png\n",
      "Iteration15 completed in 11s\n",
      "Start of iterations 16\n",
      "Current loss value: 69187336.0\n",
      "Image saved as my_result_at_iteration_16.png\n",
      "Iteration16 completed in 10s\n",
      "Start of iterations 17\n",
      "Current loss value: 67484940.0\n",
      "Image saved as my_result_at_iteration_17.png\n",
      "Iteration17 completed in 10s\n",
      "Start of iterations 18\n",
      "Current loss value: 66089600.0\n",
      "Image saved as my_result_at_iteration_18.png\n",
      "Iteration18 completed in 10s\n",
      "Start of iterations 19\n",
      "Current loss value: 64812484.0\n",
      "Image saved as my_result_at_iteration_19.png\n",
      "Iteration19 completed in 10s\n"
     ]
    }
   ],
   "source": [
    "from scipy.optimize import fmin_l_bfgs_b\n",
    "from scipy.misc import imsave\n",
    "import time\n",
    "\n",
    "result_prefix='my_result'\n",
    "iterations=20\n",
    "\n",
    "x=preprocess_image(target_image_path)\n",
    "x=x.flatten()\n",
    "for i in range(iterations):\n",
    "    print('Start of iterations',i)\n",
    "    start_time=time.time()\n",
    "    x,min_val,info=fmin_l_bfgs_b(evaluator.loss,x,fprime=evaluator.grads,maxfun=20)\n",
    "    print('Current loss value:', min_val)\n",
    "    img=x.copy().reshape((img_height,img_width,3))\n",
    "    img=deprocess_image(img)\n",
    "    fname=result_prefix+'_at_iteration_%d.png'%i\n",
    "    imsave(fname,img)\n",
    "    print('Image saved as',fname)\n",
    "    end_time=time.time()\n",
    "    print('Iteration%d completed in %ds'%(i,end_time-start_time))"
   ]
  },
  {
   "cell_type": "code",
   "execution_count": null,
   "metadata": {},
   "outputs": [],
   "source": []
  }
 ],
 "metadata": {
  "kernelspec": {
   "display_name": "Python 3",
   "language": "python",
   "name": "python3"
  },
  "language_info": {
   "codemirror_mode": {
    "name": "ipython",
    "version": 3
   },
   "file_extension": ".py",
   "mimetype": "text/x-python",
   "name": "python",
   "nbconvert_exporter": "python",
   "pygments_lexer": "ipython3",
   "version": "3.7.3"
  }
 },
 "nbformat": 4,
 "nbformat_minor": 2
}
